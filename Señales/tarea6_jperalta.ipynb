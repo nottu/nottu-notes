{
 "cells": [
  {
   "cell_type": "markdown",
   "metadata": {},
   "source": [
    "# Fourier\n",
    "\n",
    "Señales armónicas relacionadas entre si en un periodo de N muestras\n",
    "\n",
    "$$g_n = \\sum_{k=0}^{N-1}C_k e^{\\frac{-i2\\pi k}{N}n}$$\n",
    "\n",
    "Como encontrar $C_k$ con $g_n$\n",
    "\n",
    "$$\\begin{align*} \n",
    "S &= {\\overrightarrow{^0S}, \\overrightarrow{^1S}, \\cdots, \\overrightarrow{^{N-1}S}} \\\\\n",
    "^nS_k &= e^{\\frac{i2\\pi k}{N}n}\\\\\n",
    "\\overrightarrow{g} &= \\sum_{k=0}^{N-1}C_kk^\\overrightarrow{S}\n",
    "\\end{align*}$$\n",
    "\n",
    "Queremos ver si las señales en la base son ortogonales\n",
    "\n",
    "$$\\begin{align*} \n",
    "<\\overrightarrow{^mS}, \\overrightarrow{^nS}> &= 0 \\quad n \\neq m \\\\\n",
    "<\\overrightarrow{^mS}, \\overrightarrow{^nS}> &= \\sum_{k=0}^{N-1} {\\overrightarrow{^mS}_k \\overrightarrow{^nS}_k} = \\sum_{k=0}^{N-1}{e^{\\frac{i2\\pi k}{N}n}e^{\\frac{-i2\\pi k}{N}m}} = \\sum_{k=0}^{N-1}{e^{\\frac{i2\\pi k}{N}(n-m)}}\n",
    "\\end{align*}$$\n",
    "\n",
    "Recordemos que la serie $\\sum_{k=0}^{N-1}{a^k}$ converge a $\\frac{1-a^N}{1-a}$, por lo que $<\\overrightarrow{^mS}, \\overrightarrow{^nS}> = \\frac{1 - exp(i2\\pi(n-m))}{i - exp(\\frac{i2\\pi}{N}(n-m))} = 0$ ya que $e^{i2\\pi(n-m)} = 1$\n",
    "\n",
    "$$\\rightarrow C_k = \\frac{<\\overrightarrow{^kS}, \\overrightarrow{g}>}{||\\overrightarrow{^kS}||^2} = \\frac{1}{N}\\sum_{n=0}^{N-1}{g_n e^{\\frac{i2\\pi k}{N}n}} \\Rightarrow Fourier$$\n",
    "\n",
    "Transformamos $\\overrightarrow{g} \\rightarrow \\overrightarrow{G}$ con Fourier. Podemos quitar elementos o pesarlos de manera distinta y se estaría aplicando un filtro.\n",
    "\n",
    "Podemos aplicar lo mismo en 2D. Empezamos demostrando la ortogonalidad de \n",
    "$$\\overrightarrow{^{l,k}S_{m,n}} = e^{\\frac{i2\\pi k}{N}n} e^{\\frac{i2\\pi l}{M}m}$$\n",
    "\n",
    "Para esto queremos demostrar que $<\\overrightarrow{^{l,k}S}, \\overrightarrow{^{a,b}S}> = 0$ para $ l \\neq a, \\,\\, k \\neq b$"
   ]
  },
  {
   "cell_type": "markdown",
   "metadata": {},
   "source": [
    "$$\\begin{align*} \n",
    "<\\overrightarrow{^{l,k}S}, \\overrightarrow{^{a,b}S}> &= \\sum_{p=0}^{M-1}\\sum_{q=0}^{N-1}{^{l,k}S_{p,q}^{a,b}S_{p,q}} = \\sum_{p=0}^{M-1}\\sum_{q=0}^{N-1}{e^{\\frac{i2\\pi q}{N}l} e^{\\frac{i2\\pi p}{M}k} e^{\\frac{-i2\\pi q}{N}a} e^{\\frac{-i2\\pi p}{M}b}}\\\\\n",
    "&= \\sum_{p=0}^{M-1}\\sum_{q=0}^{N-1}{e^{\\frac{i2\\pi q}{N}(l - a) } e^{\\frac{i2\\pi p}{M}(k-b)}} = \\sum_{p=0}^{M-1}N e^{\\frac{i2\\pi p}{M}(k-b)} \\sum_{q=0}^{N-1}{e^{\\frac{i2\\pi q}{N}(l - a) }}\n",
    "\\end{align*}$$\n",
    "\n",
    "$$\\rightarrow C_k = \\frac{1}{NM} \\sum_{n=0}^{N-1}\\sum_{m=0}^{M-1}{g_{nm} e^{\\frac{i2\\pi k}{N}n}e^{\\frac{i2\\pi k}{M}m}}$$"
   ]
  },
  {
   "cell_type": "markdown",
   "metadata": {},
   "source": [
    "Igual que en el caso 1D ambas partes de la sumatoria convergen a 0"
   ]
  },
  {
   "cell_type": "markdown",
   "metadata": {},
   "source": [
    "## Señales continuas de banda limidata\n",
    "\n",
    "Una señal de banda limitada es aquilla cuya composición en coeficientes de Fourier es una suma finita\n",
    "\n",
    "Si $I$ es es el conjunto de componentes de la composición, los límites de esa banda son $F_{min}, F_{max}$ donde $|F_{min}|\\leq|F_{k}| \\qquad \\forall k \\in I \\qquad |F_{max}|\\geq|F_{k}| \\qquad \\forall k \\in I$"
   ]
  },
  {
   "cell_type": "markdown",
   "metadata": {},
   "source": [
    "Para calcular la trasnformada de Fourier en una imágen, tomamos el rango limitado donde el número de frecuencias está dado por la cantidad de pixeles de la imágen, si es una imágen cuadrada de $N \\times N$ esta sería\n",
    "\n",
    "$$F(k, l) = \\frac{1}{N^2}\\sum_{n=0}^{N-1}\\sum_{m=0}^{N-1}f(k,l)e^{-i2\\pi(\\frac{kn}{N})(\\frac{lm}{N})}$$\n",
    "\n",
    "Donde $f(k,l)$ es la imágen en el dominio espacial. Como Fourier es separable podemos ver esto como dos transformadas\n",
    "\n",
    "$$\\begin{align*}\n",
    "F(k, l) &= \\frac{1}{N}\\sum_{b=0}^{N-1} P(k,b)e^{-i2\\pi(\\frac{kb}{N})}\\\\\n",
    "P(k, b) &= \\frac{1}{N}\\sum_{a=0}^{N-1} f(a,b)e^{-i2\\pi(\\frac{ka}{N})}\n",
    "\\end{align*}$$\n",
    "\n",
    "Para una imágen de $32\\times32$"
   ]
  },
  {
   "cell_type": "code",
   "execution_count": 86,
   "metadata": {},
   "outputs": [
    {
     "name": "stderr",
     "output_type": "stream",
     "text": [
      "/Users/jperalta/miniconda2/envs/py36/lib/python3.6/site-packages/skimage/transform/_warps.py:84: UserWarning: The default mode, 'constant', will be changed to 'reflect' in skimage 0.15.\n",
      "  warn(\"The default mode, 'constant', will be changed to 'reflect' in \"\n"
     ]
    },
    {
     "data": {
      "image/png": "[encoded data removed]",
      "text/plain": [
       "<matplotlib.figure.Figure at 0x1c16fc0dd8>"
      ]
     },
     "metadata": {},
     "output_type": "display_data"
    }
   ],
   "source": [
    "from skimage import io, data\n",
    "from skimage.transform import rescale\n",
    "import matplotlib.pyplot as plt\n",
    "\n",
    "bw = rescale(data.camera(), 1.0 / 16.0)\n",
    "plt.imshow(bw, cmap='gray')\n",
    "plt.axis('off')\n",
    "plt.show()"
   ]
  },
  {
   "cell_type": "code",
   "execution_count": 52,
   "metadata": {},
   "outputs": [],
   "source": [
    "import numpy as np\n",
    "from numba import jit\n",
    "\n",
    "def fourier(img):\n",
    "    coeficientes = np.zeros_like(img, dtype=complex)\n",
    "    def get_coeficiente(i, j):\n",
    "        c = 0\n",
    "        for y in range(img.shape[0]):\n",
    "            for x in range(img.shape[1]):\n",
    "                c += img[y, x] * np.exp(-1j * 2 * np.pi *(i*y/img.shape[0] + j*x/img.shape[1]))\n",
    "        return c\n",
    "    for n in range(img.shape[0]):\n",
    "        for m in range(img.shape[1]):\n",
    "            coeficientes[n, m] = get_coeficiente(n,m)/(img.shape[0] * img.shape[1])\n",
    "    return coeficientes"
   ]
  },
  {
   "cell_type": "markdown",
   "metadata": {},
   "source": [
    "Para cada componente podemos calcular la imágen resultante"
   ]
  },
  {
   "cell_type": "code",
   "execution_count": 65,
   "metadata": {},
   "outputs": [],
   "source": [
    "def inverseFourier(coeficientes, ncomp=None):\n",
    "    if ncomp is None : ncomp = coeficientes.shape[0]\n",
    "    def get_value(i, j):\n",
    "        c = 0\n",
    "        for y in range(ncomp):\n",
    "            for x in range(ncomp):\n",
    "                c += coeficientes[y, x] * np.exp(1j * 2 * np.pi *(i*y/img.shape[0] + j*x/img.shape[1]))\n",
    "        return c\n",
    "    \n",
    "    img = np.zeros(coeficientes.shape)\n",
    "    for a in range(coeficientes.shape[0]):\n",
    "        for b in range(coeficientes.shape[1]):\n",
    "            img[a, b] = get_value(a, b)\n",
    "    return img"
   ]
  },
  {
   "cell_type": "code",
   "execution_count": 53,
   "metadata": {},
   "outputs": [],
   "source": [
    "components = fourier(bw)"
   ]
  },
  {
   "cell_type": "code",
   "execution_count": 77,
   "metadata": {},
   "outputs": [
    {
     "name": "stderr",
     "output_type": "stream",
     "text": [
      "/Users/jperalta/miniconda2/envs/py36/lib/python3.6/site-packages/ipykernel_launcher.py:13: ComplexWarning: Casting complex values to real discards the imaginary part\n",
      "  del sys.path[0]\n"
     ]
    }
   ],
   "source": [
    "img = inverseFourier(components)\n",
    "img1 = inverseFourier(components, 1)\n",
    "img8 = inverseFourier(components, 8)\n",
    "img16 = inverseFourier(components, 16)"
   ]
  },
  {
   "cell_type": "code",
   "execution_count": 79,
   "metadata": {},
   "outputs": [
    {
     "data": {
      "image/png": "[encoded data removed]",
      "text/plain": [
       "<matplotlib.figure.Figure at 0x1c171e86a0>"
      ]
     },
     "metadata": {},
     "output_type": "display_data"
    }
   ],
   "source": [
    "f, (ax1, ax2, ax3, ax4) = plt.subplots(1, 4, figsize=(20,8))\n",
    "ax1.imshow(img1, cmap='gray')\n",
    "ax1.axis('off')\n",
    "ax2.imshow(img8, cmap='gray')\n",
    "ax2.axis('off')\n",
    "ax3.imshow(img16, cmap='gray')\n",
    "ax3.axis('off')\n",
    "ax4.imshow(img, cmap='gray')\n",
    "ax4.axis('off')\n",
    "io.show()"
   ]
  }
 ],
 "metadata": {
  "kernelspec": {
   "display_name": "Python 3",
   "language": "python",
   "name": "python3"
  },
  "language_info": {
   "codemirror_mode": {
    "name": "ipython",
    "version": 3
   },
   "file_extension": ".py",
   "mimetype": "text/x-python",
   "name": "python",
   "nbconvert_exporter": "python",
   "pygments_lexer": "ipython3",
   "version": "3.6.4"
  }
 },
 "nbformat": 4,
 "nbformat_minor": 2
}
