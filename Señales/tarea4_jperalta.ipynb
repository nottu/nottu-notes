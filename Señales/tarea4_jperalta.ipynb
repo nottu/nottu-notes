{
 "cells": [
  {
   "cell_type": "markdown",
   "metadata": {},
   "source": [
    "# Procesamiento de señales\n",
    "## Tarea 4\n",
    "### Javier Peralta\n",
    "\n",
    "Que es un sistema?\n",
    "\n",
    "Un sistema puede ser un dispositivo que genera una señal \n",
    "\n",
    "    Ej. Sistema Óptico\n",
    "    \n",
    "Un sistema también es un algoritmo o método numérico que actua sobre una señal digital (entrada) y genera una salida   "
   ]
  },
  {
   "cell_type": "markdown",
   "metadata": {},
   "source": [
    "### Concepto de fecuencia en señales continuas senoidales\n",
    "\n",
    "$s(t) =  A cos(\\Omega t + \\phi)$\n",
    "\n",
    "Con $A \\rightarrow$ amplitud\n",
    "\n",
    "$ \\phi \\rightarrow $ fase inicial\n",
    "\n",
    "$\\Omega \\rightarrow$ frecuencia angular, $\\quad\\Omega \\rightarrow \\frac{ciclos}{segundos}$ \n",
    "\n",
    "$\\Omega = 2\\pi F$\n",
    "\n",
    "#### Propiedades \n",
    "\n",
    "Es periódica con periodo T $S(T + t) = S(t)$\n",
    "Para cada F distinta tenemos una señal distinta $F \\in (-\\infty , \\infty)$\n",
    "\n",
    "### Concepto de frecuencias en señales discretas senoidales\n",
    "\n",
    "$s(n) = A cos(\\omega n, \\phi) \\  \\ n \\in \\mathbb{I}$\n",
    "\n",
    "$\\omega \\rightarrow $ frecuencia angular en $\\frac{rad}{muestra}$\n",
    "\n",
    "#### Propiedades\n",
    "\n",
    "Una señal senoidal discreta es periódica si y sólo si $f$ es racional.\n",
    "\n",
    "Si es periódica con periodo $N$ \n",
    "\n",
    "$ s(n+N) = s(n)$\n",
    "\n",
    "$A cos (2 \\pi f N + 2 \\pi f n + \\phi) = Acos(2 \n",
    "pi f n + \\phi)$\n",
    "\n",
    "$N \\rightarrow$ es el periodo de $s$\n",
    "\n",
    "Todas las señales separadas en frecuencia por $2 \\pi$ son indistintas\n",
    "\n",
    "$s(n) = A cos( \\omega_k n + \\phi) \\quad k = 1, 2, 3, ... \\quad \\omega_k = \\omega_o + 2 \\pi k$\n",
    "\n",
    "Cualquier secuencia resultante de una senoide con $|\\omega| > \\pi$ genera una señal alias con una frecuancia $|\\omega| < \\pi$\n",
    "\n",
    "La tasa de oscilación más alta es:\n",
    "\n",
    "$\\omega = \\pm \\pi \\quad $ ó $\\quad f = \\pm 1/2$"
   ]
  },
  {
   "cell_type": "code",
   "execution_count": null,
   "metadata": {},
   "outputs": [],
   "source": []
  }
 ],
 "metadata": {
  "kernelspec": {
   "display_name": "Python 3",
   "language": "python",
   "name": "python3"
  },
  "language_info": {
   "codemirror_mode": {
    "name": "ipython",
    "version": 3
   },
   "file_extension": ".py",
   "mimetype": "text/x-python",
   "name": "python",
   "nbconvert_exporter": "python",
   "pygments_lexer": "ipython3",
   "version": "3.6.3"
  }
 },
 "nbformat": 4,
 "nbformat_minor": 2
}
