{
 "cells": [
  {
   "cell_type": "markdown",
   "metadata": {},
   "source": [
    "# Tarea 6\n",
    "## Francisco Javier Peralta Ramírez"
   ]
  },
  {
   "cell_type": "markdown",
   "metadata": {},
   "source": [
    "Para el problema IMDB, construya una red de dos canales, una Recurrente y otra Densa. La recurrente procesa datos previamente \"incrustados\" y la densa considera un vectopr de tamaño a lo mas 10,000 con estras binarias que indicas si la palabra con dicho índice es contenida en la reseña (red de dos entradas). La red tienen un sola salida que significa la interpretación del sentir (positivo o negativo). Usar API de Kreras"
   ]
  },
  {
   "cell_type": "code",
   "execution_count": 26,
   "metadata": {},
   "outputs": [],
   "source": [
    "import time\n",
    "import keras\n",
    "\n",
    "import numpy as np\n",
    "import matplotlib.pyplot as plt\n",
    "\n",
    "from keras.datasets import imdb\n",
    "from keras.preprocessing import sequence\n",
    "from keras.layers import Input, Dense, Embedding, CuDNNLSTM, CuDNNGRU, LSTM, concatenate, Dropout, TimeDistributed\n",
    "from keras.models import Sequential, Model\n",
    "from keras.utils.vis_utils import plot_model"
   ]
  },
  {
   "cell_type": "markdown",
   "metadata": {},
   "source": [
    "Podemos generar una red neuronal reccurente y ver como se comporta con los datos de IMDB"
   ]
  },
  {
   "cell_type": "code",
   "execution_count": 2,
   "metadata": {},
   "outputs": [],
   "source": [
    "max_features = 10000  # tamaño del diccionario de palabras comunes\n",
    "                      # (número de palabras a utilizar)\n",
    "maxlen = 500          # longitud máxima de cada secuencia \n",
    "batch_size = 32\n",
    "\n",
    "(input_train, y_train), (input_test, y_test) = imdb.load_data(num_words=max_features)"
   ]
  },
  {
   "cell_type": "code",
   "execution_count": 3,
   "metadata": {},
   "outputs": [],
   "source": [
    "#agregamos un padding a nuestros datos, esto nos sirve para nuestra red recurrente\n",
    "input_train = sequence.pad_sequences(input_train, maxlen=maxlen)\n",
    "input_test = sequence.pad_sequences(input_test, maxlen=maxlen)"
   ]
  },
  {
   "cell_type": "markdown",
   "metadata": {},
   "source": [
    "Para la red neuronal densa necesitamos crear un vector de tamaño `max_features` donde en cada indice tendremos un `1` si la palabra está en la reseña."
   ]
  },
  {
   "cell_type": "code",
   "execution_count": 4,
   "metadata": {},
   "outputs": [],
   "source": [
    "def __to_dense_vector(data, max_features):\n",
    "    _dense_vector = np.zeros((data.shape[0], max_features))\n",
    "    for i in range(data.shape[0]):\n",
    "        for j in range(data.shape[1]):\n",
    "            _dense_vector[i, data[i,j]] = 1\n",
    "    return _dense_vector"
   ]
  },
  {
   "cell_type": "code",
   "execution_count": 5,
   "metadata": {},
   "outputs": [
    {
     "name": "stdout",
     "output_type": "stream",
     "text": [
      "CPU times: user 6.61 s, sys: 504 ms, total: 7.11 s\n",
      "Wall time: 7.11 s\n"
     ]
    }
   ],
   "source": [
    "%%time\n",
    "dense_train = __to_dense_vector(input_train, max_features)\n",
    "dense_test  = __to_dense_vector(input_test , max_features)"
   ]
  },
  {
   "cell_type": "markdown",
   "metadata": {},
   "source": [
    "Hacemos pruebas individuales con una red densa. La red es bastante simple y consiste en dos capas escondidas con treinta y dos neuronas cada una. También agregamos una capa de *Dropout* con la finalidad de prevenir overfitting.\n",
    "\n",
    "Nota: Usamos la notación *funcional* ya que esta nos da más libertad y nos permite crear redes más complejas como la de canal doble."
   ]
  },
  {
   "cell_type": "code",
   "execution_count": 6,
   "metadata": {},
   "outputs": [
    {
     "name": "stdout",
     "output_type": "stream",
     "text": [
      "_________________________________________________________________\n",
      "Layer (type)                 Output Shape              Param #   \n",
      "=================================================================\n",
      "Input (InputLayer)           (None, 10000)             0         \n",
      "_________________________________________________________________\n",
      "dropout_1 (Dropout)          (None, 10000)             0         \n",
      "_________________________________________________________________\n",
      "D1 (Dense)                   (None, 64)                640064    \n",
      "_________________________________________________________________\n",
      "D2 (Dense)                   (None, 64)                4160      \n",
      "_________________________________________________________________\n",
      "pred (Dense)                 (None, 1)                 65        \n",
      "=================================================================\n",
      "Total params: 644,289\n",
      "Trainable params: 644,289\n",
      "Non-trainable params: 0\n",
      "_________________________________________________________________\n"
     ]
    }
   ],
   "source": [
    "inputs = Input(shape=(max_features, ), name='Input')\n",
    "x = Dropout(.5)(inputs)\n",
    "x = Dense(64, activation='relu', name='D1')(x)\n",
    "x = Dense(64, activation='relu', name='D2')(x)\n",
    "preds = Dense(1, activation='sigmoid', name='pred')(x)\n",
    "dense_model = Model(inputs=inputs, outputs=preds)\n",
    "\n",
    "plot_model(dense_model, to_file='dense_model.png', show_shapes=True, show_layer_names=True)\n",
    "dense_model.summary()"
   ]
  },
  {
   "cell_type": "markdown",
   "metadata": {},
   "source": [
    "![alt text](./dense_model.png \"Logo Title Text 1\")"
   ]
  },
  {
   "cell_type": "code",
   "execution_count": 7,
   "metadata": {},
   "outputs": [],
   "source": [
    "dense_model.compile(optimizer='rmsprop', loss='binary_crossentropy', metrics=['acc'])"
   ]
  },
  {
   "cell_type": "code",
   "execution_count": 8,
   "metadata": {},
   "outputs": [
    {
     "name": "stdout",
     "output_type": "stream",
     "text": [
      "CPU times: user 18.7 s, sys: 1.38 s, total: 20.1 s\n",
      "Wall time: 14.6 s\n"
     ]
    }
   ],
   "source": [
    "%%time\n",
    "history_dense = dense_model.fit(dense_train, y_train,\n",
    "                    epochs=10,\n",
    "                    batch_size=128,\n",
    "                    validation_split=0.2,\n",
    "                    verbose=0)"
   ]
  },
  {
   "cell_type": "code",
   "execution_count": 9,
   "metadata": {},
   "outputs": [
    {
     "data": {
      "image/png": "[encoded data removed]",
      "text/plain": [
       "<Figure size 432x288 with 1 Axes>"
      ]
     },
     "metadata": {
      "needs_background": "light"
     },
     "output_type": "display_data"
    },
    {
     "data": {
      "image/png": "[encoded data removed]",
      "text/plain": [
       "<Figure size 432x288 with 1 Axes>"
      ]
     },
     "metadata": {
      "needs_background": "light"
     },
     "output_type": "display_data"
    }
   ],
   "source": [
    "acc = history_dense.history['acc']\n",
    "val_acc = history_dense.history['val_acc']\n",
    "loss = history_dense.history['loss']\n",
    "val_loss = history_dense.history['val_loss']\n",
    "\n",
    "epochs = range(len(acc))\n",
    "\n",
    "plt.plot(epochs, acc, 'bo', label='Training accuracy')\n",
    "plt.plot(epochs, val_acc, 'b', label='Validation accuracy')\n",
    "plt.title('Precisión')\n",
    "plt.legend()\n",
    "\n",
    "plt.figure()\n",
    "\n",
    "plt.plot(epochs, loss, 'bo', label='Training loss')\n",
    "plt.plot(epochs, val_loss, 'b', label='Validation loss')\n",
    "plt.title('Pérdida')\n",
    "plt.legend()\n",
    "\n",
    "plt.show()"
   ]
  },
  {
   "cell_type": "code",
   "execution_count": 10,
   "metadata": {},
   "outputs": [
    {
     "name": "stdout",
     "output_type": "stream",
     "text": [
      "25000/25000 [==============================] - 2s 76us/step\n",
      "\n",
      "acc: 88.11%\n"
     ]
    }
   ],
   "source": [
    "scores = dense_model.evaluate(dense_test, y_test)\n",
    "print(\"\\n%s: %.2f%%\" % (dense_model.metrics_names[1], scores[1]*100))"
   ]
  },
  {
   "cell_type": "markdown",
   "metadata": {},
   "source": [
    "Podemos observar que la red densa tiene un desempeño aceptable con un accurracy del ~88% sobre datos nuevos.\n",
    "\n",
    "Nota, la capa embedding nos ayuda a pasar nuestros datos que se encuentran en un vector de tamaño 500 a una matriz de `500 * M`, donde nosotros decidimos el valor de M. Esto es para que cada palabra tenga su representación vectorial."
   ]
  },
  {
   "cell_type": "code",
   "execution_count": 12,
   "metadata": {},
   "outputs": [
    {
     "data": {
      "text/plain": [
       "(25000, 500, 100)"
      ]
     },
     "execution_count": 12,
     "metadata": {},
     "output_type": "execute_result"
    }
   ],
   "source": [
    "model = Sequential()\n",
    "model.add(Embedding(input_dim=max_features, output_dim=100))\n",
    "model.compile('rmsprop', 'mse')\n",
    "output_array = model.predict(input_train)\n",
    "output_array.shape # 25000 reviews, 500 palabras(features), encoding de 32 valores"
   ]
  },
  {
   "cell_type": "code",
   "execution_count": 89,
   "metadata": {},
   "outputs": [
    {
     "name": "stdout",
     "output_type": "stream",
     "text": [
      "_________________________________________________________________\n",
      "Layer (type)                 Output Shape              Param #   \n",
      "=================================================================\n",
      "input_20 (InputLayer)        (None, 500)               0         \n",
      "_________________________________________________________________\n",
      "Embedding (Embedding)        (None, 500, 100)          1000000   \n",
      "_________________________________________________________________\n",
      "Dropout2 (Dropout)           (None, 500, 100)          0         \n",
      "_________________________________________________________________\n",
      "GRU (CuDNNGRU)               (None, 64)                31872     \n",
      "_________________________________________________________________\n",
      "Dropout3 (Dropout)           (None, 64)                0         \n",
      "_________________________________________________________________\n",
      "D_out (Dense)                (None, 1)                 65        \n",
      "=================================================================\n",
      "Total params: 1,031,937\n",
      "Trainable params: 1,031,937\n",
      "Non-trainable params: 0\n",
      "_________________________________________________________________\n"
     ]
    }
   ],
   "source": [
    "inputs = Input(shape=(500,))\n",
    "x = Embedding(input_dim=max_features, output_dim=100, name=\"Embedding\")(inputs)\n",
    "# x = Dropout(.2, name=\"Dropout1\")(x)\n",
    "# x = CuDNNLSTM(64, name=\"LSTM\", return_sequences=True)(x)\n",
    "x = Dropout(.5, name=\"Dropout2\")(x)\n",
    "x = CuDNNGRU(64, name=\"GRU\")(x)\n",
    "x = Dropout(.5, name=\"Dropout3\")(x)\n",
    "# x = Dense(64, activation='relu')(x)\n",
    "preds = Dense(1, activation='sigmoid', name=\"D_out\")(x)\n",
    "model = Model(inputs=inputs, outputs=preds)\n",
    "\n",
    "plot_model(model, to_file='model.png', show_shapes=True, show_layer_names=True)\n",
    "\n",
    "model.summary()"
   ]
  },
  {
   "cell_type": "markdown",
   "metadata": {},
   "source": [
    "![alt text](./model.png \"Logo Title Text 1\")"
   ]
  },
  {
   "cell_type": "code",
   "execution_count": 90,
   "metadata": {},
   "outputs": [
    {
     "name": "stdout",
     "output_type": "stream",
     "text": [
      "CPU times: user 1min 24s, sys: 3.73 s, total: 1min 28s\n",
      "Wall time: 1min 20s\n"
     ]
    }
   ],
   "source": [
    "%%time\n",
    "model.compile(optimizer='rmsprop', loss='binary_crossentropy', metrics=['acc'])\n",
    "history = model.fit(input_train, y_train,\n",
    "                    epochs=15,\n",
    "                    batch_size=128,\n",
    "                    validation_split=0.2,\n",
    "                    verbose=0)"
   ]
  },
  {
   "cell_type": "code",
   "execution_count": 91,
   "metadata": {},
   "outputs": [
    {
     "data": {
      "image/png": "[encoded data removed]",
      "text/plain": [
       "<Figure size 432x288 with 1 Axes>"
      ]
     },
     "metadata": {
      "needs_background": "light"
     },
     "output_type": "display_data"
    },
    {
     "data": {
      "image/png": "[encoded data removed]",
      "text/plain": [
       "<Figure size 432x288 with 1 Axes>"
      ]
     },
     "metadata": {
      "needs_background": "light"
     },
     "output_type": "display_data"
    }
   ],
   "source": [
    "acc = history.history['acc']\n",
    "val_acc = history.history['val_acc']\n",
    "loss = history.history['loss']\n",
    "val_loss = history.history['val_loss']\n",
    "\n",
    "epochs = range(len(acc))\n",
    "\n",
    "plt.plot(epochs, acc, 'bo', label='Training accuracy')\n",
    "plt.plot(epochs, val_acc, 'b', label='Validation accuracy')\n",
    "plt.title('Precisión')\n",
    "plt.legend()\n",
    "\n",
    "plt.figure()\n",
    "\n",
    "plt.plot(epochs, loss, 'bo', label='Training loss')\n",
    "plt.plot(epochs, val_loss, 'b', label='Validation loss')\n",
    "plt.title('Pérdida')\n",
    "plt.legend()\n",
    "\n",
    "plt.show()"
   ]
  },
  {
   "cell_type": "code",
   "execution_count": 92,
   "metadata": {},
   "outputs": [
    {
     "name": "stdout",
     "output_type": "stream",
     "text": [
      "25000/25000 [==============================] - 11s 440us/step\n",
      "\n",
      "acc: 88.07%\n",
      "CPU times: user 12 s, sys: 375 ms, total: 12.4 s\n",
      "Wall time: 11 s\n"
     ]
    }
   ],
   "source": [
    "%%time\n",
    "# model.compile(optimizer='rmsprop', loss='binary_crossentropy', metrics=['acc'])\n",
    "# history = model.fit(input_train, y_train,\n",
    "#                     epochs=5,\n",
    "#                     batch_size=128,\n",
    "#                     validation_split=0.2,\n",
    "#                     verbose=0)\n",
    "scores = model.evaluate(input_test, y_test)\n",
    "print(\"\\n%s: %.2f%%\" % (model.metrics_names[1], scores[1]*100))"
   ]
  },
  {
   "cell_type": "markdown",
   "metadata": {},
   "source": [
    "Curiosamente observamos que ambas redes tienen un accuracy similar, con la red densa siendo ligeramente mejor."
   ]
  },
  {
   "cell_type": "markdown",
   "metadata": {},
   "source": [
    "Ahora creamos una red de dos canales. Dado el pre-procesado requerido para la red densa, tendremos que tener dos capas de input"
   ]
  },
  {
   "cell_type": "code",
   "execution_count": 147,
   "metadata": {},
   "outputs": [
    {
     "name": "stdout",
     "output_type": "stream",
     "text": [
      "__________________________________________________________________________________________________\n",
      "Layer (type)                    Output Shape         Param #     Connected to                     \n",
      "==================================================================================================\n",
      "Input_Recurrent (InputLayer)    (None, 500)          0                                            \n",
      "__________________________________________________________________________________________________\n",
      "Embedding (Embedding)           (None, 500, 100)     1000000     Input_Recurrent[0][0]            \n",
      "__________________________________________________________________________________________________\n",
      "Input_Dense (InputLayer)        (None, 10000)        0                                            \n",
      "__________________________________________________________________________________________________\n",
      "Dropout_Reccurrent (Dropout)    (None, 500, 100)     0           Embedding[0][0]                  \n",
      "__________________________________________________________________________________________________\n",
      "Dropout_Dense (Dropout)         (None, 10000)        0           Input_Dense[0][0]                \n",
      "__________________________________________________________________________________________________\n",
      "GRU (CuDNNGRU)                  (None, 64)           31872       Dropout_Reccurrent[0][0]         \n",
      "__________________________________________________________________________________________________\n",
      "concatenate_8 (Concatenate)     (None, 10064)        0           Dropout_Dense[0][0]              \n",
      "                                                                 GRU[0][0]                        \n",
      "__________________________________________________________________________________________________\n",
      "dropout_5 (Dropout)             (None, 10064)        0           concatenate_8[0][0]              \n",
      "__________________________________________________________________________________________________\n",
      "pred (Dense)                    (None, 1)            10065       dropout_5[0][0]                  \n",
      "==================================================================================================\n",
      "Total params: 1,041,937\n",
      "Trainable params: 1,041,937\n",
      "Non-trainable params: 0\n",
      "__________________________________________________________________________________________________\n"
     ]
    }
   ],
   "source": [
    "#parte densa\n",
    "d_inputs = Input(shape=(max_features, ), name='Input_Dense')\n",
    "d = Dropout(.5, name=\"Dropout_Dense\")(d_inputs)\n",
    "x = Dense(64, activation='relu', name='D1')(x)\n",
    "x = Dense(64, activation='relu', name='D2')(x)\n",
    "\n",
    "#parte recurrente\n",
    "r_inputs = Input(shape=(500,), name='Input_Recurrent')\n",
    "r = Embedding(input_dim=max_features, output_dim=100, name=\"Embedding\")(r_inputs)\n",
    "r = Dropout(.5, name=\"Dropout_Reccurrent\")(r)\n",
    "# r = CuDNNLSTM(32, name=\"LSTM1\", return_sequences=True)(r)\n",
    "r = CuDNNGRU(64, name=\"GRU\")(r)\n",
    "\n",
    "\n",
    "merge = concatenate([d, r], axis=1)\n",
    "merge = Dropout(.5)(merge)\n",
    "preds = Dense(1, activation='sigmoid', name='pred')(merge)\n",
    "dual_model = Model(inputs=[d_inputs, r_inputs], outputs=preds)\n",
    "\n",
    "plot_model(dual_model, to_file='dual_model.png', show_shapes=True, show_layer_names=True)\n",
    "\n",
    "dual_model.summary()"
   ]
  },
  {
   "cell_type": "markdown",
   "metadata": {},
   "source": [
    "![alt text](./dual_model.png \"Logo Title Text 1\")"
   ]
  },
  {
   "cell_type": "code",
   "execution_count": 148,
   "metadata": {},
   "outputs": [
    {
     "name": "stdout",
     "output_type": "stream",
     "text": [
      "CPU times: user 2min 47s, sys: 6.38 s, total: 2min 53s\n",
      "Wall time: 2min 36s\n"
     ]
    }
   ],
   "source": [
    "%%time\n",
    "dual_model.compile(optimizer='rmsprop', loss='binary_crossentropy', metrics=['acc'])\n",
    "d_history = dual_model.fit([dense_train, input_train], y_train,\n",
    "                    epochs=15,\n",
    "                    batch_size=128,\n",
    "                    validation_data=([dense_test, input_test], y_test),\n",
    "                    verbose=0)"
   ]
  },
  {
   "cell_type": "code",
   "execution_count": 149,
   "metadata": {},
   "outputs": [
    {
     "data": {
      "image/png": "[encoded data removed]",
      "text/plain": [
       "<Figure size 432x288 with 1 Axes>"
      ]
     },
     "metadata": {
      "needs_background": "light"
     },
     "output_type": "display_data"
    },
    {
     "data": {
      "image/png": "[encoded data removed]",
      "text/plain": [
       "<Figure size 432x288 with 1 Axes>"
      ]
     },
     "metadata": {
      "needs_background": "light"
     },
     "output_type": "display_data"
    }
   ],
   "source": [
    "acc_d = d_history.history['acc']\n",
    "val_acc_d = d_history.history['val_acc']\n",
    "loss_d = d_history.history['loss']\n",
    "val_loss_d = d_history.history['val_loss']\n",
    "\n",
    "epochs_d = range(len(acc_d))\n",
    "\n",
    "plt.plot(epochs_d, acc_d, 'bo', label='Training accuracy dual')\n",
    "plt.plot(epochs_d, val_acc_d, 'b', label='Validation accuracy dual')\n",
    "\n",
    "plt.plot(epochs, acc, 'ro', label='Training accuracy recurrent')\n",
    "plt.plot(epochs, val_acc, 'r', label='Validation accuracy recurrent')\n",
    "\n",
    "plt.title('Precisión')\n",
    "plt.legend()\n",
    "\n",
    "plt.figure()\n",
    "\n",
    "\n",
    "plt.plot(epochs, loss, 'ro', label='Training loss recurrent')\n",
    "plt.plot(epochs, val_loss, 'r', label='Validation loss recurrent')\n",
    "\n",
    "plt.plot(epochs_d, loss_d, 'bo', label='Training loss dual')\n",
    "plt.plot(epochs_d, val_loss_d, 'b', label='Validation loss dual')\n",
    "\n",
    "plt.title('Pérdida')\n",
    "plt.legend()\n",
    "\n",
    "plt.show()"
   ]
  },
  {
   "cell_type": "markdown",
   "metadata": {},
   "source": [
    "Notamos que despues de tres epocas nuestra perdida de validación empieza a incrementar, por lo cual podemos dejar el número de epocas en 3."
   ]
  },
  {
   "cell_type": "code",
   "execution_count": 150,
   "metadata": {},
   "outputs": [],
   "source": [
    "# %%time\n",
    "# dual_model.compile(optimizer='rmsprop', loss='binary_crossentropy', metrics=['acc'])\n",
    "# d_history = dual_model.fit([dense_train, input_train], y_train,\n",
    "#                     epochs=5,\n",
    "#                     batch_size=128,\n",
    "#                     validation_split=0.2,\n",
    "#                     verbose=0)"
   ]
  },
  {
   "cell_type": "code",
   "execution_count": 151,
   "metadata": {},
   "outputs": [
    {
     "name": "stdout",
     "output_type": "stream",
     "text": [
      "25000/25000 [==============================] - 12s 483us/step\n",
      "\n",
      "acc: 88.52%\n"
     ]
    }
   ],
   "source": [
    "scores = dual_model.evaluate([dense_test, input_test], y_test)\n",
    "print(\"\\n%s: %.2f%%\" % (dual_model.metrics_names[1], scores[1]*100))"
   ]
  },
  {
   "cell_type": "markdown",
   "metadata": {},
   "source": [
    "Podemos ver que el accuracy practicamente no mejora. Las redes que teníamos inicialmente nos dan resultados bastante buenos y para mejorarlos signigicativamente tendríamos que tener una arquitectura considerablemente mejor.\n",
    "\n",
    "Es importante notar que con cada ejecución los resultados varían ya que el optimizador es estocástico y no encontramos los mismos *optimos* cada vez."
   ]
  }
 ],
 "metadata": {
  "kernelspec": {
   "display_name": "Python 3",
   "language": "python",
   "name": "python3"
  },
  "language_info": {
   "codemirror_mode": {
    "name": "ipython",
    "version": 3
   },
   "file_extension": ".py",
   "mimetype": "text/x-python",
   "name": "python",
   "nbconvert_exporter": "python",
   "pygments_lexer": "ipython3",
   "version": "3.6.7"
  }
 },
 "nbformat": 4,
 "nbformat_minor": 2
}
