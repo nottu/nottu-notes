{
 "cells": [
  {
   "cell_type": "markdown",
   "metadata": {},
   "source": [
    "# Tarea 6\n",
    "## Francisco Javier Peralta Ramírez"
   ]
  },
  {
   "cell_type": "markdown",
   "metadata": {},
   "source": [
    "Para el problema IMDB, construya una red de dos canales, una Recurrente y otra Densa. La recurrente procesa datos previamente \"incrustados\" y la densa considera un vectopr de tamaño a lo mas 10,000 con estras binarias que indicas si la palabra con dicho índice es contenida en la reseña (red de dos entradas). La red tienen un sola salida que significa la interpretación del sentir (positivo o negativo). Usar API de Kreras"
   ]
  },
  {
   "cell_type": "code",
   "execution_count": 67,
   "metadata": {},
   "outputs": [],
   "source": [
    "import numpy as np\n",
    "import csv\n",
    "\n",
    "import matplotlib.pyplot as plt"
   ]
  },
  {
   "cell_type": "code",
   "execution_count": 94,
   "metadata": {},
   "outputs": [],
   "source": [
    "data_test   = []\n",
    "target_test = [] #can be neg, pos\n",
    "data_train   = []\n",
    "target_train = [] #can be neg, pos \n",
    "with open('imdb_utf8.csv', encoding='utf-8') as csvfile:\n",
    "    data_reader = csv.reader(csvfile, delimiter=',', quotechar='\"')\n",
    "    next(data_reader, None) #skip first row\n",
    "    for row in data_reader:\n",
    "        if(row[-2] == 'unsup'): continue\n",
    "        if row[1] == 'test' :\n",
    "            data_test.append(row[2])\n",
    "            target_test.append(1 if row[-2] == 'pos' else 0) #mapeamos neg -> 0 , pos -> 1\n",
    "        else :\n",
    "            data_train.append(row[2])\n",
    "            target_train.append(1 if row[-2] == 'pos' else 0) #mapeamos neg -> 0 , pos -> 1"
   ]
  },
  {
   "cell_type": "code",
   "execution_count": 95,
   "metadata": {},
   "outputs": [
    {
     "data": {
      "image/png": "[encoded data removed]",
      "text/plain": [
       "<Figure size 432x288 with 1 Axes>"
      ]
     },
     "metadata": {
      "needs_background": "light"
     },
     "output_type": "display_data"
    }
   ],
   "source": [
    "plt.hist(target_train)\n",
    "plt.show()"
   ]
  },
  {
   "cell_type": "markdown",
   "metadata": {},
   "source": []
  },
  {
   "cell_type": "code",
   "execution_count": null,
   "metadata": {},
   "outputs": [],
   "source": []
  },
  {
   "cell_type": "code",
   "execution_count": null,
   "metadata": {},
   "outputs": [],
   "source": []
  },
  {
   "cell_type": "code",
   "execution_count": null,
   "metadata": {},
   "outputs": [],
   "source": []
  },
  {
   "cell_type": "code",
   "execution_count": null,
   "metadata": {},
   "outputs": [],
   "source": []
  }
 ],
 "metadata": {
  "kernelspec": {
   "display_name": "Python 3",
   "language": "python",
   "name": "python3"
  },
  "language_info": {
   "codemirror_mode": {
    "name": "ipython",
    "version": 3
   },
   "file_extension": ".py",
   "mimetype": "text/x-python",
   "name": "python",
   "nbconvert_exporter": "python",
   "pygments_lexer": "ipython3",
   "version": "3.6.7"
  }
 },
 "nbformat": 4,
 "nbformat_minor": 2
}
