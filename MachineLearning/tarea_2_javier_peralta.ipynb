{
 "cells": [
  {
   "cell_type": "markdown",
   "metadata": {},
   "source": [
    "# Tarea 2\n",
    "## Francisco Javier Peralta Ramírez"
   ]
  },
  {
   "cell_type": "code",
   "execution_count": 1,
   "metadata": {},
   "outputs": [],
   "source": [
    "import matplotlib.pyplot as plt\n",
    "import numpy as np\n",
    "import sympy as sp\n",
    "\n",
    "import warnings\n",
    "sp.init_printing()\n",
    "warnings.filterwarnings('ignore')"
   ]
  },
  {
   "cell_type": "code",
   "execution_count": 2,
   "metadata": {},
   "outputs": [],
   "source": [
    "def adagrad(f, gradf, x0, nIter, alpha):\n",
    "    pass\n",
    "\n",
    "def nag(f, gradf, x0, nIter, alpha):\n",
    "    pass\n",
    "\n",
    "def adam(f, gradf, x0, nIter, alpha):\n",
    "    pass"
   ]
  },
  {
   "cell_type": "markdown",
   "metadata": {},
   "source": [
    "Codificamos la función rosembrock como un simple **for**"
   ]
  },
  {
   "cell_type": "code",
   "execution_count": 34,
   "metadata": {},
   "outputs": [],
   "source": [
    "def rosenbrock(x):\n",
    "    fx = 0\n",
    "    for i in range(len(x) - 1):\n",
    "        fx += 100 * (x[i+1] - x[i]**2)**2 + (1 - x[i]**2)\n",
    "    return fx"
   ]
  },
  {
   "cell_type": "markdown",
   "metadata": {},
   "source": [
    "Como la función *rosenbrock* admite cualquier tipo (i.e. no se hace chequeo de tipos) podemos pasar simbolos de *sympy*"
   ]
  },
  {
   "cell_type": "code",
   "execution_count": 9,
   "metadata": {},
   "outputs": [
    {
     "data": {
      "image/png": "[encoded data removed]",
      "text/latex": [
       "$$- x_{1}^{2} + 100 \\left(- x_{1}^{2} + x_{2}\\right)^{2} + 1$$"
      ],
      "text/plain": [
       "                        2    \n",
       "    2       ⎛    2     ⎞     \n",
       "- x₁  + 100⋅⎝- x₁  + x₂⎠  + 1"
      ]
     },
     "execution_count": 9,
     "metadata": {},
     "output_type": "execute_result"
    }
   ],
   "source": [
    "x = sp.symbols('x1:3')\n",
    "rosembrock(x)"
   ]
  },
  {
   "cell_type": "code",
   "execution_count": 10,
   "metadata": {},
   "outputs": [
    {
     "data": {
      "image/png": "[encoded data removed]",
      "text/latex": [
       "$$\\left[\\begin{matrix}- x_{1}^{2} + 100 \\left(- x_{1}^{2} + x_{2}\\right)^{2} + 1\\end{matrix}\\right]$$"
      ],
      "text/plain": [
       "⎡                        2    ⎤\n",
       "⎢    2       ⎛    2     ⎞     ⎥\n",
       "⎣- x₁  + 100⋅⎝- x₁  + x₂⎠  + 1⎦"
      ]
     },
     "execution_count": 10,
     "metadata": {},
     "output_type": "execute_result"
    }
   ],
   "source": [
    "ros = sp.Matrix([rosembrock(x)])\n",
    "ros"
   ]
  },
  {
   "cell_type": "code",
   "execution_count": 65,
   "metadata": {},
   "outputs": [
    {
     "data": {
      "image/png": "[encoded data removed]",
      "text/latex": [
       "$$\\left[\\begin{matrix}- 400 x_{1} \\left(- x_{1}^{2} + x_{2}\\right) - 2 x_{1}\\\\- 200 x_{1}^{2} + 200 x_{2}\\end{matrix}\\right]$$"
      ],
      "text/plain": [
       "⎡         ⎛    2     ⎞       ⎤\n",
       "⎢- 400⋅x₁⋅⎝- x₁  + x₂⎠ - 2⋅x₁⎥\n",
       "⎢                            ⎥\n",
       "⎢             2              ⎥\n",
       "⎣     - 200⋅x₁  + 200⋅x₂     ⎦"
      ]
     },
     "execution_count": 65,
     "metadata": {},
     "output_type": "execute_result"
    }
   ],
   "source": [
    "jacRos = ros.jacobian(x).T\n",
    "jacRos"
   ]
  },
  {
   "cell_type": "markdown",
   "metadata": {},
   "source": [
    "Podemos evaluar el resultado del gradiente usando la función **subs** la cual substituye las variables por valores, esta requiere un parámetro de la forma ***[ (old, new), ... ]*** donde *old* es la variable a remplazar y *new* el valor."
   ]
  },
  {
   "cell_type": "code",
   "execution_count": 36,
   "metadata": {},
   "outputs": [
    {
     "data": {
      "image/png": "[encoded data removed]",
      "text/latex": [
       "$$\\left[\\begin{matrix}-82.0\\\\40.0\\end{matrix}\\right]$$"
      ],
      "text/plain": [
       "⎡-82.0⎤\n",
       "⎢     ⎥\n",
       "⎣40.0 ⎦"
      ]
     },
     "execution_count": 36,
     "metadata": {},
     "output_type": "execute_result"
    }
   ],
   "source": [
    "x0 = [1, 1.2]\n",
    "evalJ = jacRos.subs([(x[i], x0[i]) for i in range(len(x0))])\n",
    "evalJ"
   ]
  },
  {
   "cell_type": "markdown",
   "metadata": {},
   "source": [
    "Podemos juntar todo esto para crear una función que regresa el gradiente"
   ]
  },
  {
   "cell_type": "code",
   "execution_count": 68,
   "metadata": {},
   "outputs": [
    {
     "data": {
      "text/plain": [
       "array([-82.,  40.])"
      ]
     },
     "execution_count": 68,
     "metadata": {},
     "output_type": "execute_result"
    }
   ],
   "source": [
    "def sym_grad(f, x):\n",
    "    x_s = sp.symbols('x0:{}'.format(len(x)))\n",
    "    mtx = sp.Matrix([f(x_s)])\n",
    "    jac = mtx.jacobian(x_s)\n",
    "    evl = jac.subs([(x_s[i], x[i]) for i in range(len(x0))])\n",
    "    return np.array( [float(v) for v in evl])\n",
    "sym_grad(rosenbrock, x0) #comprobamos funcionamiento"
   ]
  },
  {
   "cell_type": "code",
   "execution_count": null,
   "metadata": {},
   "outputs": [],
   "source": []
  },
  {
   "cell_type": "code",
   "execution_count": null,
   "metadata": {},
   "outputs": [],
   "source": []
  },
  {
   "cell_type": "code",
   "execution_count": null,
   "metadata": {},
   "outputs": [],
   "source": []
  }
 ],
 "metadata": {
  "kernelspec": {
   "display_name": "Python 3",
   "language": "python",
   "name": "python3"
  },
  "language_info": {
   "codemirror_mode": {
    "name": "ipython",
    "version": 3
   },
   "file_extension": ".py",
   "mimetype": "text/x-python",
   "name": "python",
   "nbconvert_exporter": "python",
   "pygments_lexer": "ipython3",
   "version": "3.6.5"
  }
 },
 "nbformat": 4,
 "nbformat_minor": 2
}
