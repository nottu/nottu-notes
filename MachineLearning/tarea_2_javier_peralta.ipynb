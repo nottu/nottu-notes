{
 "cells": [
  {
   "cell_type": "markdown",
   "metadata": {},
   "source": [
    "# Tarea 2\n",
    "## Francisco Javier Peralta Ramírez"
   ]
  },
  {
   "cell_type": "code",
   "execution_count": 99,
   "metadata": {},
   "outputs": [],
   "source": [
    "import matplotlib.pyplot as plt\n",
    "import numpy as np\n",
    "import sympy as sp\n",
    "\n",
    "import warnings\n",
    "sp.init_printing()\n",
    "warnings.filterwarnings('ignore')"
   ]
  },
  {
   "cell_type": "code",
   "execution_count": 397,
   "metadata": {},
   "outputs": [],
   "source": [
    "def nag(f, gradf, x0, nIter, alpha, eta):\n",
    "    assert alpha > 0 and eta > 0#positive step size\n",
    "    a, e, x = alpha, eta, x0\n",
    "    #primer paso es desenso de gradiente...\n",
    "    p = gradf(x)\n",
    "    fx = [f(x)]\n",
    "    x = x - a * p\n",
    "    #empieza NAG\n",
    "    fx.append(f(x))\n",
    "    for i in range(nIter - 1): #ya hicimos la primera iteracion...\n",
    "        xn = x - a * p #tomamos el paso anterior\n",
    "        gt = gradf(xn)\n",
    "        p = e * p + gt #nueva dir\n",
    "        x = xn - a * p\n",
    "        fx.append(f(x))\n",
    "    print(x)\n",
    "    return np.array(fx)"
   ]
  },
  {
   "cell_type": "code",
   "execution_count": 398,
   "metadata": {},
   "outputs": [],
   "source": [
    "def adagrad(f, gradf, x0, nIter, alpha, epsilon = 0.001):\n",
    "    x = x0\n",
    "    g2 = np.zeros_like(x)\n",
    "    fx = [f(x)]\n",
    "    for i in range(nIter):\n",
    "        g = gradf(x)\n",
    "        g2 += g**2 #suma cuadrada de gradientes\n",
    "        n = alpha / np.sqrt(g2 + epsilon)\n",
    "        x = x - n * g\n",
    "        fx.append(f(x))\n",
    "    print(x)\n",
    "    return np.array(fx)"
   ]
  },
  {
   "cell_type": "code",
   "execution_count": 399,
   "metadata": {},
   "outputs": [],
   "source": [
    "def adam(f, gradf, x0, nIter, alpha, beta = (0.9, 0.999), epsilon = 1E-8):\n",
    "    x = x0\n",
    "    m = np.zeros_like(x)\n",
    "    v = np.zeros_like(x)\n",
    "    fx = [f(x)]\n",
    "    \n",
    "    for i in range(nIter):\n",
    "        g = gradf(x)\n",
    "        m = beta[0] * m + (1 - beta[0]) * g    #decaying avg momentum\n",
    "        v = beta[1] * v + (1 - beta[1]) * g**2 #decaying velocity\n",
    "        #bias corrected first and second moments\n",
    "        mh = m / ( 1 - beta[0])\n",
    "        vh = v / ( 1 - beta[1])\n",
    "        x = x - alpha * mh / (np.sqrt(vh) + epsilon)\n",
    "        fx.append(f(x))\n",
    "    print(x)\n",
    "    return fx"
   ]
  },
  {
   "cell_type": "markdown",
   "metadata": {},
   "source": [
    "Codificamos la función rosembrock como un simple **for**"
   ]
  },
  {
   "cell_type": "code",
   "execution_count": 103,
   "metadata": {},
   "outputs": [],
   "source": [
    "def rosenbrock(x):\n",
    "    fx = 0\n",
    "    for i in range(len(x) - 1):\n",
    "        fx += 100 * (x[i+1] - x[i]**2)**2 + (1 - x[i])**2\n",
    "    return fx"
   ]
  },
  {
   "cell_type": "markdown",
   "metadata": {},
   "source": [
    "Como la función *rosenbrock* admite cualquier tipo (i.e. no se hace chequeo de tipos) podemos pasar simbolos de *sympy*"
   ]
  },
  {
   "cell_type": "code",
   "execution_count": 104,
   "metadata": {},
   "outputs": [
    {
     "data": {
      "image/png": "[encoded data removed]",
      "text/latex": [
       "$$\\left(- x_{1} + 1\\right)^{2} + 100 \\left(- x_{1}^{2} + x_{2}\\right)^{2}$$"
      ],
      "text/plain": [
       "                             2\n",
       "         2       ⎛    2     ⎞ \n",
       "(-x₁ + 1)  + 100⋅⎝- x₁  + x₂⎠ "
      ]
     },
     "execution_count": 104,
     "metadata": {},
     "output_type": "execute_result"
    }
   ],
   "source": [
    "x = sp.symbols('x1:3')\n",
    "rosenbrock(x)"
   ]
  },
  {
   "cell_type": "code",
   "execution_count": 105,
   "metadata": {},
   "outputs": [
    {
     "data": {
      "image/png": "[encoded data removed]",
      "text/latex": [
       "$$\\left[\\begin{matrix}\\left(- x_{1} + 1\\right)^{2} + 100 \\left(- x_{1}^{2} + x_{2}\\right)^{2}\\end{matrix}\\right]$$"
      ],
      "text/plain": [
       "⎡                             2⎤\n",
       "⎢         2       ⎛    2     ⎞ ⎥\n",
       "⎣(-x₁ + 1)  + 100⋅⎝- x₁  + x₂⎠ ⎦"
      ]
     },
     "execution_count": 105,
     "metadata": {},
     "output_type": "execute_result"
    }
   ],
   "source": [
    "ros = sp.Matrix([rosenbrock(x)])\n",
    "ros"
   ]
  },
  {
   "cell_type": "code",
   "execution_count": 106,
   "metadata": {},
   "outputs": [
    {
     "data": {
      "image/png": "[encoded data removed]",
      "text/latex": [
       "$$\\left[\\begin{matrix}- 400 x_{1} \\left(- x_{1}^{2} + x_{2}\\right) + 2 x_{1} - 2\\\\- 200 x_{1}^{2} + 200 x_{2}\\end{matrix}\\right]$$"
      ],
      "text/plain": [
       "⎡         ⎛    2     ⎞           ⎤\n",
       "⎢- 400⋅x₁⋅⎝- x₁  + x₂⎠ + 2⋅x₁ - 2⎥\n",
       "⎢                                ⎥\n",
       "⎢               2                ⎥\n",
       "⎣       - 200⋅x₁  + 200⋅x₂       ⎦"
      ]
     },
     "execution_count": 106,
     "metadata": {},
     "output_type": "execute_result"
    }
   ],
   "source": [
    "jacRos = ros.jacobian(x).T\n",
    "jacRos"
   ]
  },
  {
   "cell_type": "markdown",
   "metadata": {},
   "source": [
    "Podemos evaluar el resultado del gradiente usando la función **subs** la cual substituye las variables por valores, esta requiere un parámetro de la forma ***[ (old, new), ... ]*** donde *old* es la variable a remplazar y *new* el valor."
   ]
  },
  {
   "cell_type": "code",
   "execution_count": 127,
   "metadata": {},
   "outputs": [
    {
     "data": {
      "image/png": "[encoded data removed]",
      "text/latex": [
       "$$\\left[\\begin{matrix}-215.6\\\\-88.0\\end{matrix}\\right]$$"
      ],
      "text/plain": [
       "⎡-215.6⎤\n",
       "⎢      ⎥\n",
       "⎣-88.0 ⎦"
      ]
     },
     "execution_count": 127,
     "metadata": {},
     "output_type": "execute_result"
    }
   ],
   "source": [
    "x0 = [-1.2, 1]\n",
    "evalJ = jacRos.subs([(x[i], x0[i]) for i in range(len(x0))])\n",
    "evalJ"
   ]
  },
  {
   "cell_type": "markdown",
   "metadata": {},
   "source": [
    "Podemos juntar todo esto para crear una función que regresa el gradiente"
   ]
  },
  {
   "cell_type": "code",
   "execution_count": 159,
   "metadata": {},
   "outputs": [],
   "source": [
    "def sym_grad(f, x):\n",
    "    x_s = sp.symbols('x0:{}'.format(len(x)))\n",
    "    mtx = sp.Matrix([f(x_s)])\n",
    "    jac = mtx.jacobian(x_s)\n",
    "    evl = jac.subs([(x_s[i], x[i]) for i in range(len(x0))])\n",
    "    return np.array( [float(v) for v in evl])\n",
    "sym_grad(rosenbrock, x0) #comprobamos funcionamiento\n",
    "\n",
    "#mucho mas rapido con lamdify\n",
    "def sym_grad2(f, k):\n",
    "    x_s = sp.symbols('x0:{}'.format(k))\n",
    "    mtx = sp.Matrix([f(x_s)])\n",
    "    jac = mtx.jacobian(x_s)\n",
    "    jac_f  = [sp.lambdify(x_s, jac[i]) for i in range(k)]\n",
    "    def __gradient(x):\n",
    "        return np.array([ jac_f[i](*x) for i in range(k)])\n",
    "    return __gradient\n",
    "\n",
    "def sym_grad_batch(f, x, syms):\n",
    "    pass"
   ]
  },
  {
   "cell_type": "code",
   "execution_count": 165,
   "metadata": {},
   "outputs": [],
   "source": [
    "rosenbrock_grad = sym_grad2(rosenbrock, len(x0))"
   ]
  },
  {
   "cell_type": "code",
   "execution_count": 166,
   "metadata": {},
   "outputs": [
    {
     "data": {
      "text/plain": [
       "array([24.2       ,  5.35291158, 10.53256361,  4.45291231,  3.95323557,\n",
       "        3.95010693,  3.93548183,  3.92231644,  3.91257388,  3.90424358,\n",
       "        3.89611101])"
      ]
     },
     "execution_count": 166,
     "metadata": {},
     "output_type": "execute_result"
    }
   ],
   "source": [
    "nag(rosenbrock, rosenbrock_grad, x0, 10, 0.001, 0.2)"
   ]
  },
  {
   "cell_type": "code",
   "execution_count": 167,
   "metadata": {},
   "outputs": [
    {
     "data": {
      "text/plain": [
       "array([24.2       ,  5.6200002 ,  4.42773308,  4.28313775,  4.26158791,\n",
       "        4.25630733,  4.25326015,  4.25052384,  4.24783087,  4.24514378,\n",
       "        4.24245728])"
      ]
     },
     "execution_count": 167,
     "metadata": {},
     "output_type": "execute_result"
    }
   ],
   "source": [
    "adagrad(rosenbrock, rosenbrock_grad, x0, 10, 0.1)"
   ]
  },
  {
   "cell_type": "code",
   "execution_count": 168,
   "metadata": {},
   "outputs": [
    {
     "data": {
      "image/png": "[encoded data removed]",
      "text/latex": [
       "$$\\left [ 24.199999999999996, \\quad 5.62000000049397, \\quad 9.425037871936695, \\quad 18.538954227954694, \\quad 15.489988054328606, \\quad 7.244879025070684, \\quad 4.309837373144063, \\quad 9.042838947384872, \\quad 12.315906724528094, \\quad 9.186509600134787, \\quad 4.878997503953728\\right ]$$"
      ],
      "text/plain": [
       "[24.199999999999996, 5.62000000049397, 9.425037871936695, 18.538954227954694, \n",
       "15.489988054328606, 7.244879025070684, 4.309837373144063, 9.042838947384872, 1\n",
       "2.315906724528094, 9.186509600134787, 4.878997503953728]"
      ]
     },
     "execution_count": 168,
     "metadata": {},
     "output_type": "execute_result"
    }
   ],
   "source": [
    "adam(rosenbrock, rosenbrock_grad, x0, 10, 0.1)"
   ]
  },
  {
   "cell_type": "markdown",
   "metadata": {},
   "source": [
    "Comparamos los resultados de **NAG, ADAGRAD, ADAM** para *Rosenbrock* con $n = 2$ y $x_0 = [-1.2, 1]$"
   ]
  },
  {
   "cell_type": "code",
   "execution_count": 169,
   "metadata": {},
   "outputs": [],
   "source": [
    "def plot_res(nag_res, adagrad_res, adam_res):\n",
    "    f, ax = plt.subplots(1, 2, figsize=(24, 8))\n",
    "\n",
    "    ax[0].plot(nag_res, label=\"NAG\")\n",
    "    ax[0].plot(adagrad_res, label=\"ADAGRAD\")\n",
    "    ax[0].plot(adam_res, label=\"ADAM\")\n",
    "    ax[0].legend()\n",
    "\n",
    "    ax[1].plot(nag_res)\n",
    "    ax[1].plot(adagrad_res)\n",
    "    ax[1].plot(adam_res)\n",
    "    ax[1].set_xlim(n_iter - 10, n_iter)\n",
    "    ax[1].set_ylim(-0.0001, np.ceil(adagrad_res[-1]))\n",
    "    plt.show()"
   ]
  },
  {
   "cell_type": "code",
   "execution_count": 170,
   "metadata": {},
   "outputs": [
    {
     "data": {
      "image/png": "[encoded data removed]",
      "text/plain": [
       "<Figure size 1728x576 with 2 Axes>"
      ]
     },
     "metadata": {},
     "output_type": "display_data"
    },
    {
     "name": "stdout",
     "output_type": "stream",
     "text": [
      "NAG: 0.23003097789834537\tADAGRAD: 0.23963264994036995\tADAM: 0.0830723551658313\n",
      "CPU times: user 276 ms, sys: 6.98 ms, total: 283 ms\n",
      "Wall time: 284 ms\n"
     ]
    }
   ],
   "source": [
    "%%time\n",
    "x0 = [-1.2, 1]\n",
    "n_iter = 500\n",
    "rosenbrock_grad = sym_grad2(rosenbrock, len(x0))\n",
    "nag_res = nag(rosenbrock, rosenbrock_grad, x0, n_iter, 0.001, 0.2)\n",
    "adagrad_res = adagrad(rosenbrock, rosenbrock_grad, x0, n_iter, 1)\n",
    "adam_res = adam(rosenbrock, rosenbrock_grad, x0, n_iter, 0.1)\n",
    "\n",
    "plot_res(nag_res, adagrad_res, adam_res)\n",
    "print(\"NAG: {0}\\tADAGRAD: {1}\\tADAM: {2}\".format(nag_res[-1], adagrad_res[-1] , adam_res[-1]))"
   ]
  },
  {
   "cell_type": "code",
   "execution_count": 172,
   "metadata": {},
   "outputs": [
    {
     "data": {
      "image/png": "[encoded data removed]",
      "text/plain": [
       "<Figure size 1728x576 with 2 Axes>"
      ]
     },
     "metadata": {},
     "output_type": "display_data"
    },
    {
     "name": "stdout",
     "output_type": "stream",
     "text": [
      "NAG: 8.387514565612117\tADAGRAD: 5.792575982598245\tADAM: 4.36104322889238\n",
      "CPU times: user 280 ms, sys: 2 ms, total: 282 ms\n",
      "Wall time: 281 ms\n"
     ]
    }
   ],
   "source": [
    "%%time\n",
    "x0 = np.ones((10))\n",
    "x0[0] = x0[-2] = -1.2\n",
    "rosenbrock_grad = sym_grad2(rosenbrock, len(x0))\n",
    "n_iter = 500\n",
    "nag_res = nag(rosenbrock, rosenbrock_grad, x0, n_iter, 0.001, 0.2)\n",
    "adagrad_res = adagrad(rosenbrock, rosenbrock_grad, x0, n_iter, 0.1)\n",
    "adam_res = adam(rosenbrock, rosenbrock_grad, x0, n_iter, 0.1)\n",
    "\n",
    "plot_res(nag_res, adagrad_res, adam_res)\n",
    "print(\"NAG: {0}\\tADAGRAD: {1}\\tADAM: {2}\".format(nag_res[-1], adagrad_res[-1] , adam_res[-1]))"
   ]
  },
  {
   "cell_type": "code",
   "execution_count": 174,
   "metadata": {},
   "outputs": [
    {
     "data": {
      "image/png": "[encoded data removed]",
      "text/plain": [
       "<Figure size 1728x576 with 2 Axes>"
      ]
     },
     "metadata": {},
     "output_type": "display_data"
    },
    {
     "name": "stdout",
     "output_type": "stream",
     "text": [
      "NAG: 5.374595393504411\tADAGRAD: 5.826391996524356\tADAM: 4.269714209561028\n",
      "CPU times: user 783 ms, sys: 2.97 ms, total: 786 ms\n",
      "Wall time: 790 ms\n"
     ]
    }
   ],
   "source": [
    "%%time\n",
    "x0 = np.ones((50))\n",
    "x0[0] = x0[-2] = -1.2\n",
    "rosenbrock_grad = sym_grad2(rosenbrock, len(x0))\n",
    "n_iter = 500\n",
    "nag_res = nag(rosenbrock, rosenbrock_grad, x0, n_iter, 0.0001, 0.2)\n",
    "adagrad_res = adagrad(rosenbrock, rosenbrock_grad, x0, n_iter, 0.1)\n",
    "adam_res = adam(rosenbrock, rosenbrock_grad, x0, n_iter, 0.1)\n",
    "\n",
    "plot_res(nag_res, adagrad_res, adam_res)\n",
    "print(\"NAG: {0}\\tADAGRAD: {1}\\tADAM: {2}\".format(nag_res[-1], adagrad_res[-1] , adam_res[-1]))"
   ]
  },
  {
   "cell_type": "code",
   "execution_count": 39,
   "metadata": {},
   "outputs": [],
   "source": [
    "data = np.load('data.npy')"
   ]
  },
  {
   "cell_type": "code",
   "execution_count": 195,
   "metadata": {},
   "outputs": [],
   "source": [
    "def radial_gauss(x, mu, sigma, lib=sp):\n",
    "    expv = (x - mu)**2 / (2 * sigma**2)\n",
    "    return lib.exp(expv)\n",
    "\n",
    "def radial_fit(x, mu, sigma, c, lib=sp):\n",
    "    val = c[0]\n",
    "    for i in range(len(mu)):\n",
    "        val += c[i+1] * radial_gauss(x, mu[i], sigma[i], lib)\n",
    "    return val\n",
    "\n",
    "def radial_err(x, y, mu, sigma, c, lib=sp):\n",
    "    err = 0\n",
    "    for i in range(len(y)):\n",
    "        err += (radial_fit(x[i], mu, sigma, c, lib) - y[i])**2\n",
    "    return err\n",
    "\n",
    "def create_radial_err_fun(x, y, msc):\n",
    "    def fun(val):\n",
    "        k = int(np.floor(len(msc)/3))\n",
    "        mu, sigma, c = msc[:k], msc[k:2*k], msc[2*k:]\n",
    "        errf = radial_err(x, y, mu, sigma, c, sp)\n",
    "        errL = sp.lambdify(msc, errf)\n",
    "        return errL(*val)\n",
    "    return fun"
   ]
  },
  {
   "cell_type": "code",
   "execution_count": 196,
   "metadata": {},
   "outputs": [
    {
     "data": {
      "image/png": "[encoded data removed]",
      "text/latex": [
       "$$70047.1527269805$$"
      ],
      "text/plain": [
       "70047.1527269805"
      ]
     },
     "execution_count": 196,
     "metadata": {},
     "output_type": "execute_result"
    }
   ],
   "source": [
    "radial_err(data[:10, 0], data[:10, 1], np.array([0, 1, 2]), np.array([1, 2, 3]), np.array([0, 1, 2, 3]))"
   ]
  },
  {
   "cell_type": "code",
   "execution_count": 42,
   "metadata": {},
   "outputs": [
    {
     "data": {
      "text/plain": [
       "array([m0, s2, s0, c2, m1, c0, c3, c1, s1, m2], dtype=object)"
      ]
     },
     "execution_count": 42,
     "metadata": {},
     "output_type": "execute_result"
    }
   ],
   "source": [
    "k = 3\n",
    "c = sp.symbols('c0:{}'.format(k + 1))\n",
    "mu = sp.symbols('m0:{}'.format(k))\n",
    "sigma = sp.symbols('s0:{}'.format(k))\n",
    "\n",
    "v = np.array(c+mu+sigma)\n",
    "np.random.shuffle(v)\n",
    "v"
   ]
  },
  {
   "cell_type": "code",
   "execution_count": 43,
   "metadata": {},
   "outputs": [
    {
     "data": {
      "image/png": "[encoded data removed]",
      "text/latex": [
       "$$c_{0} + c_{1} e^{\\frac{\\left(- m_{0} + 0.0402684563758389\\right)^{2}}{2 s_{0}^{2}}} + c_{2} e^{\\frac{\\left(- m_{1} + 0.0402684563758389\\right)^{2}}{2 s_{1}^{2}}} + c_{3} e^{\\frac{\\left(- m_{2} + 0.0402684563758389\\right)^{2}}{2 s_{2}^{2}}}$$"
      ],
      "text/plain": [
       "                                   2                                 2        \n",
       "         (-m₀ + 0.0402684563758389)        (-m₁ + 0.0402684563758389)        (\n",
       "         ───────────────────────────       ───────────────────────────       ─\n",
       "                        2                                 2                   \n",
       "                    2⋅s₀                              2⋅s₁                    \n",
       "c₀ + c₁⋅ℯ                            + c₂⋅ℯ                            + c₃⋅ℯ \n",
       "\n",
       "                         2\n",
       "-m₂ + 0.0402684563758389) \n",
       "──────────────────────────\n",
       "              2           \n",
       "          2⋅s₂            \n",
       "                          "
      ]
     },
     "execution_count": 43,
     "metadata": {},
     "output_type": "execute_result"
    }
   ],
   "source": [
    "radial_fit(data[1:2, 0][0], mu ,sigma, c, sp)"
   ]
  },
  {
   "cell_type": "code",
   "execution_count": 44,
   "metadata": {},
   "outputs": [
    {
     "data": {
      "image/png": "[encoded data removed]",
      "text/latex": [
       "$$\\left(c_{0} + c_{1} e^{\\frac{m_{0}^{2}}{2 s_{0}^{2}}} + c_{2} e^{\\frac{m_{1}^{2}}{2 s_{1}^{2}}} + c_{3} e^{\\frac{m_{2}^{2}}{2 s_{2}^{2}}} - 86.9760321823166\\right)^{2}$$"
      ],
      "text/plain": [
       "                                                           2\n",
       "⎛            2           2           2                    ⎞ \n",
       "⎜          m₀          m₁          m₂                     ⎟ \n",
       "⎜         ─────       ─────       ─────                   ⎟ \n",
       "⎜             2           2           2                   ⎟ \n",
       "⎜         2⋅s₀        2⋅s₁        2⋅s₂                    ⎟ \n",
       "⎝c₀ + c₁⋅ℯ      + c₂⋅ℯ      + c₃⋅ℯ      - 86.9760321823166⎠ "
      ]
     },
     "execution_count": 44,
     "metadata": {},
     "output_type": "execute_result"
    }
   ],
   "source": [
    "radial_err(data[:1, 0], data[:1, 1], mu ,sigma, c, sp)"
   ]
  },
  {
   "cell_type": "code",
   "execution_count": 385,
   "metadata": {},
   "outputs": [],
   "source": [
    "def radial_err_pdif(x, y, mu, sigma, c):\n",
    "        \"\"\"mask: a bookean array that indicates the \n",
    "        symbols we need to derive with respect to.\n",
    "        Derivatives wil be wrt mu, then sigma then c\"\"\"\n",
    "        fun = radial_err(x, y, mu, sigma, c, sp) #use sympy\n",
    "        partials = [0] * (len(mu) * 3 + 1)\n",
    "        k = 0\n",
    "        for i in range(len(mu)):\n",
    "            partials[k] = sp.diff(fun, mu[i])\n",
    "            k +=1\n",
    "        for i in range(len(sigma)):\n",
    "            partials[k] = sp.diff(fun, sigma[i])\n",
    "            k +=1\n",
    "        for i in range(len(c)):\n",
    "            partials[k] = sp.diff(fun, c[i])\n",
    "            k +=1\n",
    "        return partials\n",
    "    \n",
    "def create_radial_err_pdif_fun(x, y, msc):\n",
    "    k = int(np.floor(len(msc)/3))\n",
    "    mu, sigma, c = msc[:k], msc[k:2*k], msc[2*k:]\n",
    "    errdif  =  radial_err_pdif(x, y, mu, sigma, c)\n",
    "    errdifL = [sp.lambdify(msc, errdif[i]) for i in range(len(msc))]\n",
    "    def fun(val, mask):\n",
    "        return np.array([errdifL[i](*val) if mask[i] else 0 for i in range(len(val))])\n",
    "    return fun"
   ]
  },
  {
   "cell_type": "code",
   "execution_count": 384,
   "metadata": {},
   "outputs": [
    {
     "data": {
      "image/png": "[encoded data removed]",
      "text/latex": [
       "$$\\left [ \\frac{2 c_{1} m_{0} \\left(c_{0} + c_{1} e^{\\frac{m_{0}^{2}}{2 s_{0}^{2}}} + c_{2} e^{\\frac{m_{1}^{2}}{2 s_{1}^{2}}} + c_{3} e^{\\frac{m_{2}^{2}}{2 s_{2}^{2}}} - 86.9760321823166\\right) e^{\\frac{m_{0}^{2}}{2 s_{0}^{2}}}}{s_{0}^{2}}, \\quad \\frac{2 c_{2} m_{1} \\left(c_{0} + c_{1} e^{\\frac{m_{0}^{2}}{2 s_{0}^{2}}} + c_{2} e^{\\frac{m_{1}^{2}}{2 s_{1}^{2}}} + c_{3} e^{\\frac{m_{2}^{2}}{2 s_{2}^{2}}} - 86.9760321823166\\right) e^{\\frac{m_{1}^{2}}{2 s_{1}^{2}}}}{s_{1}^{2}}, \\quad \\frac{2 c_{3} m_{2} \\left(c_{0} + c_{1} e^{\\frac{m_{0}^{2}}{2 s_{0}^{2}}} + c_{2} e^{\\frac{m_{1}^{2}}{2 s_{1}^{2}}} + c_{3} e^{\\frac{m_{2}^{2}}{2 s_{2}^{2}}} - 86.9760321823166\\right) e^{\\frac{m_{2}^{2}}{2 s_{2}^{2}}}}{s_{2}^{2}}, \\quad - \\frac{2 c_{1} m_{0}^{2} \\left(c_{0} + c_{1} e^{\\frac{m_{0}^{2}}{2 s_{0}^{2}}} + c_{2} e^{\\frac{m_{1}^{2}}{2 s_{1}^{2}}} + c_{3} e^{\\frac{m_{2}^{2}}{2 s_{2}^{2}}} - 86.9760321823166\\right) e^{\\frac{m_{0}^{2}}{2 s_{0}^{2}}}}{s_{0}^{3}}, \\quad - \\frac{2 c_{2} m_{1}^{2} \\left(c_{0} + c_{1} e^{\\frac{m_{0}^{2}}{2 s_{0}^{2}}} + c_{2} e^{\\frac{m_{1}^{2}}{2 s_{1}^{2}}} + c_{3} e^{\\frac{m_{2}^{2}}{2 s_{2}^{2}}} - 86.9760321823166\\right) e^{\\frac{m_{1}^{2}}{2 s_{1}^{2}}}}{s_{1}^{3}}, \\quad - \\frac{2 c_{3} m_{2}^{2} \\left(c_{0} + c_{1} e^{\\frac{m_{0}^{2}}{2 s_{0}^{2}}} + c_{2} e^{\\frac{m_{1}^{2}}{2 s_{1}^{2}}} + c_{3} e^{\\frac{m_{2}^{2}}{2 s_{2}^{2}}} - 86.9760321823166\\right) e^{\\frac{m_{2}^{2}}{2 s_{2}^{2}}}}{s_{2}^{3}}, \\quad 2 c_{0} + 2 c_{1} e^{\\frac{m_{0}^{2}}{2 s_{0}^{2}}} + 2 c_{2} e^{\\frac{m_{1}^{2}}{2 s_{1}^{2}}} + 2 c_{3} e^{\\frac{m_{2}^{2}}{2 s_{2}^{2}}} - 173.952064364633, \\quad 2 \\left(c_{0} + c_{1} e^{\\frac{m_{0}^{2}}{2 s_{0}^{2}}} + c_{2} e^{\\frac{m_{1}^{2}}{2 s_{1}^{2}}} + c_{3} e^{\\frac{m_{2}^{2}}{2 s_{2}^{2}}} - 86.9760321823166\\right) e^{\\frac{m_{0}^{2}}{2 s_{0}^{2}}}, \\quad 2 \\left(c_{0} + c_{1} e^{\\frac{m_{0}^{2}}{2 s_{0}^{2}}} + c_{2} e^{\\frac{m_{1}^{2}}{2 s_{1}^{2}}} + c_{3} e^{\\frac{m_{2}^{2}}{2 s_{2}^{2}}} - 86.9760321823166\\right) e^{\\frac{m_{1}^{2}}{2 s_{1}^{2}}}, \\quad 2 \\left(c_{0} + c_{1} e^{\\frac{m_{0}^{2}}{2 s_{0}^{2}}} + c_{2} e^{\\frac{m_{1}^{2}}{2 s_{1}^{2}}} + c_{3} e^{\\frac{m_{2}^{2}}{2 s_{2}^{2}}} - 86.9760321823166\\right) e^{\\frac{m_{2}^{2}}{2 s_{2}^{2}}}\\right ]$$"
      ],
      "text/plain": [
       "⎡        ⎛            2           2           2                    ⎞     2    \n",
       "⎢        ⎜          m₀          m₁          m₂                     ⎟   m₀     \n",
       "⎢        ⎜         ─────       ─────       ─────                   ⎟  ─────   \n",
       "⎢        ⎜             2           2           2                   ⎟      2   \n",
       "⎢        ⎜         2⋅s₀        2⋅s₁        2⋅s₂                    ⎟  2⋅s₀    \n",
       "⎢2⋅c₁⋅m₀⋅⎝c₀ + c₁⋅ℯ      + c₂⋅ℯ      + c₃⋅ℯ      - 86.9760321823166⎠⋅ℯ       2\n",
       "⎢──────────────────────────────────────────────────────────────────────────, ─\n",
       "⎢                                     2                                       \n",
       "⎣                                   s₀                                        \n",
       "\n",
       "       ⎛            2           2           2                    ⎞     2      \n",
       "       ⎜          m₀          m₁          m₂                     ⎟   m₁       \n",
       "       ⎜         ─────       ─────       ─────                   ⎟  ─────     \n",
       "       ⎜             2           2           2                   ⎟      2     \n",
       "       ⎜         2⋅s₀        2⋅s₁        2⋅s₂                    ⎟  2⋅s₁      \n",
       "⋅c₂⋅m₁⋅⎝c₀ + c₁⋅ℯ      + c₂⋅ℯ      + c₃⋅ℯ      - 86.9760321823166⎠⋅ℯ       2⋅c\n",
       "─────────────────────────────────────────────────────────────────────────, ───\n",
       "                                    2                                         \n",
       "                                  s₁                                          \n",
       "\n",
       "     ⎛            2           2           2                    ⎞     2        \n",
       "     ⎜          m₀          m₁          m₂                     ⎟   m₂         \n",
       "     ⎜         ─────       ─────       ─────                   ⎟  ─────       \n",
       "     ⎜             2           2           2                   ⎟      2       \n",
       "     ⎜         2⋅s₀        2⋅s₁        2⋅s₂                    ⎟  2⋅s₂        \n",
       "₃⋅m₂⋅⎝c₀ + c₁⋅ℯ      + c₂⋅ℯ      + c₃⋅ℯ      - 86.9760321823166⎠⋅ℯ       -2⋅c₁\n",
       "───────────────────────────────────────────────────────────────────────, ─────\n",
       "                                  2                                           \n",
       "                                s₂                                            \n",
       "\n",
       "     ⎛            2           2           2                    ⎞     2        \n",
       "     ⎜          m₀          m₁          m₂                     ⎟   m₀         \n",
       "     ⎜         ─────       ─────       ─────                   ⎟  ─────       \n",
       "     ⎜             2           2           2                   ⎟      2       \n",
       "   2 ⎜         2⋅s₀        2⋅s₁        2⋅s₂                    ⎟  2⋅s₀        \n",
       "⋅m₀ ⋅⎝c₀ + c₁⋅ℯ      + c₂⋅ℯ      + c₃⋅ℯ      - 86.9760321823166⎠⋅ℯ        -2⋅c\n",
       "────────────────────────────────────────────────────────────────────────, ────\n",
       "                                  3                                           \n",
       "                                s₀                                            \n",
       "\n",
       "      ⎛            2           2           2                    ⎞     2       \n",
       "      ⎜          m₀          m₁          m₂                     ⎟   m₁        \n",
       "      ⎜         ─────       ─────       ─────                   ⎟  ─────      \n",
       "      ⎜             2           2           2                   ⎟      2      \n",
       "    2 ⎜         2⋅s₀        2⋅s₁        2⋅s₂                    ⎟  2⋅s₁       \n",
       "₂⋅m₁ ⋅⎝c₀ + c₁⋅ℯ      + c₂⋅ℯ      + c₃⋅ℯ      - 86.9760321823166⎠⋅ℯ        -2⋅\n",
       "─────────────────────────────────────────────────────────────────────────, ───\n",
       "                                   3                                          \n",
       "                                 s₁                                           \n",
       "\n",
       "       ⎛            2           2           2                    ⎞     2      \n",
       "       ⎜          m₀          m₁          m₂                     ⎟   m₂       \n",
       "       ⎜         ─────       ─────       ─────                   ⎟  ─────     \n",
       "       ⎜             2           2           2                   ⎟      2     \n",
       "     2 ⎜         2⋅s₀        2⋅s₁        2⋅s₂                    ⎟  2⋅s₂      \n",
       "c₃⋅m₂ ⋅⎝c₀ + c₁⋅ℯ      + c₂⋅ℯ      + c₃⋅ℯ      - 86.9760321823166⎠⋅ℯ          \n",
       "──────────────────────────────────────────────────────────────────────────, 2⋅\n",
       "                                    3                                         \n",
       "                                  s₂                                          \n",
       "\n",
       "                                                                              \n",
       "              2             2             2                        ⎛          \n",
       "            m₀            m₁            m₂                         ⎜          \n",
       "           ─────         ─────         ─────                       ⎜         ─\n",
       "               2             2             2                       ⎜          \n",
       "           2⋅s₀          2⋅s₁          2⋅s₂                        ⎜         2\n",
       "c₀ + 2⋅c₁⋅ℯ      + 2⋅c₂⋅ℯ      + 2⋅c₃⋅ℯ      - 173.952064364633, 2⋅⎝c₀ + c₁⋅ℯ \n",
       "                                                                              \n",
       "                                                                              \n",
       "\n",
       "                                                                              \n",
       "  2           2           2                    ⎞     2     ⎛            2     \n",
       "m₀          m₁          m₂                     ⎟   m₀      ⎜          m₀      \n",
       "────       ─────       ─────                   ⎟  ─────    ⎜         ─────    \n",
       "   2           2           2                   ⎟      2    ⎜             2    \n",
       "⋅s₀        2⋅s₁        2⋅s₂                    ⎟  2⋅s₀     ⎜         2⋅s₀     \n",
       "     + c₂⋅ℯ      + c₃⋅ℯ      - 86.9760321823166⎠⋅ℯ     , 2⋅⎝c₀ + c₁⋅ℯ      + c\n",
       "                                                                              \n",
       "                                                                              \n",
       "\n",
       "                                                                              \n",
       "      2           2                    ⎞     2     ⎛            2           2 \n",
       "    m₁          m₂                     ⎟   m₁      ⎜          m₀          m₁  \n",
       "   ─────       ─────                   ⎟  ─────    ⎜         ─────       ─────\n",
       "       2           2                   ⎟      2    ⎜             2           2\n",
       "   2⋅s₁        2⋅s₂                    ⎟  2⋅s₁     ⎜         2⋅s₀        2⋅s₁ \n",
       "₂⋅ℯ      + c₃⋅ℯ      - 86.9760321823166⎠⋅ℯ     , 2⋅⎝c₀ + c₁⋅ℯ      + c₂⋅ℯ     \n",
       "                                                                              \n",
       "                                                                              \n",
       "\n",
       "                                       ⎤\n",
       "          2                    ⎞     2 ⎥\n",
       "        m₂                     ⎟   m₂  ⎥\n",
       "       ─────                   ⎟  ─────⎥\n",
       "           2                   ⎟      2⎥\n",
       "       2⋅s₂                    ⎟  2⋅s₂ ⎥\n",
       " + c₃⋅ℯ      - 86.9760321823166⎠⋅ℯ     ⎥\n",
       "                                       ⎥\n",
       "                                       ⎦"
      ]
     },
     "execution_count": 384,
     "metadata": {},
     "output_type": "execute_result"
    }
   ],
   "source": [
    "radial_err_pdif(data[:1, 0], data[:1, 1], mu, sigma, c)"
   ]
  },
  {
   "cell_type": "code",
   "execution_count": 386,
   "metadata": {},
   "outputs": [],
   "source": [
    "def nag_batch(f, gradf, x0, nIter, alpha, eta):\n",
    "    assert alpha > 0 and eta > 0#positive step size\n",
    "    a, e, x = alpha, eta, x0\n",
    "    #primer paso es desenso de gradiente...\n",
    "    p = gradf(x)\n",
    "    fx = [f(x)]\n",
    "    xn = x - a * p\n",
    "    #empieza NAG\n",
    "    if(f(xn) < f(x)):\n",
    "        x = xn\n",
    "    fx.append(f(x))\n",
    "    for i in range(nIter - 1): #ya hicimos la primera iteracion...\n",
    "        xn = x - a * p #tomamos el paso anterior\n",
    "        gt = gradf(xn)\n",
    "        p = e * p + gt #nueva dir\n",
    "        xn = xn - a * p\n",
    "#         if(f(xn) < f(x)):\n",
    "        x = xn\n",
    "        fx.append(f(x))\n",
    "    print(x)\n",
    "    return np.array(fx)"
   ]
  },
  {
   "cell_type": "code",
   "execution_count": 415,
   "metadata": {},
   "outputs": [
    {
     "name": "stdout",
     "output_type": "stream",
     "text": [
      "CPU times: user 28 µs, sys: 0 ns, total: 28 µs\n",
      "Wall time: 31.7 µs\n"
     ]
    }
   ],
   "source": [
    "%%time\n",
    "x, y = data[:, 0], data[:, 1]\n",
    "msc = (mu + sigma + c)\n",
    "gradf = create_radial_err_pdif_fun(x, y, msc)\n",
    "f = create_radial_err_fun(x, y, msc)\n",
    "x0 = np.append(np.random.choice(6, 3, replace=False), [1, 1, 1, 1, 1, 1, 1])\n",
    "# x0 = [0.5, 2.5, 5, 1, 1, 1, 1, 1, 1, 1]"
   ]
  },
  {
   "cell_type": "code",
   "execution_count": 422,
   "metadata": {},
   "outputs": [
    {
     "name": "stdout",
     "output_type": "stream",
     "text": [
      "[ 1.68875688e+08  1.84060646e+04 -1.57103328e+05  9.03196957e+08\n",
      "  5.91415820e+04  7.44329863e+05  2.36226854e+04 -3.15537843e+07\n",
      "  1.94155377e+04 -9.10458607e+03]\n",
      "[3.91149379e+13 3.14440592e+16 1.38623435e+17 1.53426571e+17\n",
      " 1.54845238e+17 1.54884035e+17 1.54784481e+17 1.54671112e+17\n",
      " 1.54556357e+17 1.54441427e+17 1.54326410e+17]\n",
      "CPU times: user 34.4 s, sys: 4.97 ms, total: 34.4 s\n",
      "Wall time: 34.5 s\n"
     ]
    }
   ],
   "source": [
    "%%time\n",
    "a = nag(f, gradf, x0, 50, 0.0001, 0.1)\n",
    "print(a)"
   ]
  },
  {
   "cell_type": "code",
   "execution_count": 427,
   "metadata": {},
   "outputs": [
    {
     "name": "stdout",
     "output_type": "stream",
     "text": [
      "[0.61557865 2.64627646 4.79578021 1.11453711 1.14370755 1.20384362\n",
      " 0.77854456 0.87932515 0.83667975 0.79373811]\n",
      "[39114937907868.22, 81250840094.40611, 228914400.17086333, 5886578.918037169, 1082173.8575172776, 953811.1485055595, 1034201.5445622929, 1097566.389578937, 1139615.84386556, 1168100.712224164, 1188303.6857542025]\n",
      "CPU times: user 34.7 s, sys: 9.74 ms, total: 34.7 s\n",
      "Wall time: 34.8 s\n"
     ]
    }
   ],
   "source": [
    "%%time\n",
    "b = adagrad(f, gradf, x0, 10, 0.1)\n",
    "print(a)"
   ]
  },
  {
   "cell_type": "code",
   "execution_count": 428,
   "metadata": {},
   "outputs": [
    {
     "name": "stdout",
     "output_type": "stream",
     "text": [
      "[1.15497335 3.1658337  4.3427649  1.65470739 1.66429219 1.65674433\n",
      " 0.27901829 0.34410395 0.32861782 0.34101312]\n",
      "[39114937907868.22, 81250840094.40611, 228914400.17086333, 5886578.918037169, 1082173.8575172776, 953811.1485055595, 1034201.5445622929, 1097566.389578937, 1139615.84386556, 1168100.712224164, 1188303.6857542025]\n",
      "CPU times: user 34.4 s, sys: 21.7 ms, total: 34.4 s\n",
      "Wall time: 34.5 s\n"
     ]
    }
   ],
   "source": [
    "%%time\n",
    "c = adam(f, gradf, x0, 10, 0.1)\n",
    "print(a)"
   ]
  },
  {
   "cell_type": "code",
   "execution_count": 421,
   "metadata": {},
   "outputs": [],
   "source": [
    "def create_radial_err_pdif_fun(x, y, msc, batch=30):\n",
    "    p = [i for i in range(len(data))]\n",
    "    def fun(val):\n",
    "        idxs = np.random.choice(p, batch)\n",
    "        k = int(np.floor(len(msc)/3))\n",
    "        mu, sigma, c = msc[:k], msc[k:2*k], msc[2*k:]\n",
    "        errdif  =  radial_err_pdif(x[idxs], y[idxs], mu, sigma, c)\n",
    "        errdifL = [sp.lambdify(msc, errdif[i]) for i in range(len(val))]\n",
    "        return np.array([errdifL[i](*val) for i in range(len(val))])\n",
    "    return fun"
   ]
  },
  {
   "cell_type": "code",
   "execution_count": 322,
   "metadata": {},
   "outputs": [
    {
     "data": {
      "text/plain": [
       "[<matplotlib.lines.Line2D at 0x7fea2a1492e8>]"
      ]
     },
     "execution_count": 322,
     "metadata": {},
     "output_type": "execute_result"
    },
    {
     "data": {
      "image/png": "[encoded data removed]",
      "text/plain": [
       "<Figure size 432x288 with 1 Axes>"
      ]
     },
     "metadata": {},
     "output_type": "display_data"
    }
   ],
   "source": [
    "plt.plot(x, y)"
   ]
  },
  {
   "cell_type": "code",
   "execution_count": 379,
   "metadata": {},
   "outputs": [],
   "source": [
    "def create_radial_err_pdif_fun(x, y, msc, batch=20):\n",
    "    p = [i for i in range(len(data))]\n",
    "    def fun(val):\n",
    "        idxs = np.random.choice(p, batch)\n",
    "        k = int(np.floor(len(msc)/3))\n",
    "        mu, sigma, c = msc[:k], msc[k:2*k], msc[2*k:]\n",
    "        errdif  =  radial_err_pdif(x[idxs], y[idxs], mu, sigma, c)\n",
    "        errdifL = [sp.lambdify(msc, errdif[i]) for i in range(len(val))]\n",
    "        return np.array([errdifL[i](*val) for i in range(len(val))])\n",
    "    return fun\n",
    "\n",
    "test = create_radial_err_pdif_fun(x, y, msc)"
   ]
  },
  {
   "cell_type": "code",
   "execution_count": 400,
   "metadata": {},
   "outputs": [
    {
     "data": {
      "text/plain": [
       "array([  578.18073428,   304.4174446 ,  -130.07092627, -1772.28296327,\n",
       "          66.63279405,    81.89377444,  -980.23084853, -1060.43945182,\n",
       "       -1023.14090818, -1006.39102765])"
      ]
     },
     "execution_count": 400,
     "metadata": {},
     "output_type": "execute_result"
    }
   ],
   "source": [
    "test(x0)"
   ]
  },
  {
   "cell_type": "code",
   "execution_count": 343,
   "metadata": {},
   "outputs": [],
   "source": [
    "p = [i for i in range(len(data))]\n",
    "idx = np.random.choice(p, 10)"
   ]
  },
  {
   "cell_type": "code",
   "execution_count": 362,
   "metadata": {},
   "outputs": [
    {
     "data": {
      "text/plain": [
       "array([ 94, 105,  10,  59, 144,  19, 148,   2,  41,  42,  60,  58, 108,\n",
       "        81,  42,  97,  98, 109,  37, 126])"
      ]
     },
     "execution_count": 362,
     "metadata": {},
     "output_type": "execute_result"
    }
   ],
   "source": [
    "p = [i for i in range(len(data))]\n",
    "idxs = np.random.choice(p, 20)\n",
    "idxs"
   ]
  },
  {
   "cell_type": "code",
   "execution_count": 410,
   "metadata": {},
   "outputs": [
    {
     "data": {
      "image/png": "[encoded data removed]",
      "text/latex": [
       "$$\\left ( 10\\right )$$"
      ],
      "text/plain": [
       "(10,)"
      ]
     },
     "execution_count": 410,
     "metadata": {},
     "output_type": "execute_result"
    }
   ],
   "source": [
    "np.append(np.random.choice(6, 3, replace=False), [1, 1, 1, 1, 1, 1, 1]).shape"
   ]
  },
  {
   "cell_type": "code",
   "execution_count": null,
   "metadata": {},
   "outputs": [],
   "source": []
  }
 ],
 "metadata": {
  "kernelspec": {
   "display_name": "Python 3",
   "language": "python",
   "name": "python3"
  },
  "language_info": {
   "codemirror_mode": {
    "name": "ipython",
    "version": 3
   },
   "file_extension": ".py",
   "mimetype": "text/x-python",
   "name": "python",
   "nbconvert_exporter": "python",
   "pygments_lexer": "ipython3",
   "version": "3.6.6"
  }
 },
 "nbformat": 4,
 "nbformat_minor": 2
}
