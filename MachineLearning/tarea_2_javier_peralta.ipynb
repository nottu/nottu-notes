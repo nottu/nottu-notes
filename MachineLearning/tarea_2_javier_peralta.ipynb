{
 "cells": [
  {
   "cell_type": "markdown",
   "metadata": {},
   "source": [
    "# Tarea 2\n",
    "## Francisco Javier Peralta Ramírez"
   ]
  },
  {
   "cell_type": "code",
   "execution_count": 1,
   "metadata": {},
   "outputs": [],
   "source": [
    "import matplotlib.pyplot as plt\n",
    "import numpy as np\n",
    "import sympy as sp\n",
    "\n",
    "import warnings\n",
    "sp.init_printing()\n",
    "warnings.filterwarnings('ignore')"
   ]
  },
  {
   "cell_type": "code",
   "execution_count": 2,
   "metadata": {},
   "outputs": [],
   "source": [
    "def adam(f, gradf, x0, nIter, alpha):\n",
    "    pass"
   ]
  },
  {
   "cell_type": "code",
   "execution_count": 100,
   "metadata": {},
   "outputs": [],
   "source": [
    "def nag(f, gradf, x0, nIter, alpha, eta):\n",
    "    assert alpha > 0 and eta > 0#positive step size\n",
    "    a, e, x = alpha, eta, x0\n",
    "    #primer paso es desenso de gradiente...\n",
    "    p = gradf(x)\n",
    "    fx = [f(x)]\n",
    "    x = x - a * p\n",
    "    #empieza NAG\n",
    "    fx.append(f(x))\n",
    "    for i in range(nIter - 1): #ya hicimos la primera iteracion...\n",
    "        xn = x - a * p #tomamos el paso anterior\n",
    "        gt = gradf(xn)\n",
    "        p = e * p + gt #nueva dir\n",
    "        x = xn - a * p\n",
    "        fx.append(f(x))\n",
    "    return np.array(fx)"
   ]
  },
  {
   "cell_type": "code",
   "execution_count": 101,
   "metadata": {},
   "outputs": [],
   "source": [
    "def adagrad(f, gradf, x0, nIter, alpha, epsilon = 0.001):\n",
    "    x = x0\n",
    "    g2 = np.zeros_like(x)\n",
    "    fx = [f(x)]\n",
    "    for i in range(nIter):\n",
    "        g = gradf(x)\n",
    "        g2 += g**2 #suma cuadrada de gradientes\n",
    "        n = alpha / np.sqrt(g2 + epsilon)\n",
    "        x = x - n * g\n",
    "        fx.append(f(x))\n",
    "    return np.array(fx)"
   ]
  },
  {
   "cell_type": "markdown",
   "metadata": {},
   "source": [
    "Codificamos la función rosembrock como un simple **for**"
   ]
  },
  {
   "cell_type": "code",
   "execution_count": 37,
   "metadata": {},
   "outputs": [],
   "source": [
    "def rosenbrock(x):\n",
    "    fx = 0\n",
    "    for i in range(len(x) - 1):\n",
    "        fx += 100 * (x[i+1] - x[i]**2)**2 + (1 - x[i])**2\n",
    "    return fx"
   ]
  },
  {
   "cell_type": "markdown",
   "metadata": {},
   "source": [
    "Como la función *rosenbrock* admite cualquier tipo (i.e. no se hace chequeo de tipos) podemos pasar simbolos de *sympy*"
   ]
  },
  {
   "cell_type": "code",
   "execution_count": 38,
   "metadata": {},
   "outputs": [
    {
     "data": {
      "image/png": "[encoded data removed]",
      "text/latex": [
       "$$\\left(- x_{1} + 1\\right)^{2} + 100 \\left(- x_{1}^{2} + x_{2}\\right)^{2}$$"
      ],
      "text/plain": [
       "                             2\n",
       "         2       ⎛    2     ⎞ \n",
       "(-x₁ + 1)  + 100⋅⎝- x₁  + x₂⎠ "
      ]
     },
     "execution_count": 38,
     "metadata": {},
     "output_type": "execute_result"
    }
   ],
   "source": [
    "x = sp.symbols('x1:3')\n",
    "rosenbrock(x)"
   ]
  },
  {
   "cell_type": "code",
   "execution_count": 39,
   "metadata": {},
   "outputs": [
    {
     "data": {
      "image/png": "[encoded data removed]",
      "text/latex": [
       "$$\\left[\\begin{matrix}\\left(- x_{1} + 1\\right)^{2} + 100 \\left(- x_{1}^{2} + x_{2}\\right)^{2}\\end{matrix}\\right]$$"
      ],
      "text/plain": [
       "⎡                             2⎤\n",
       "⎢         2       ⎛    2     ⎞ ⎥\n",
       "⎣(-x₁ + 1)  + 100⋅⎝- x₁  + x₂⎠ ⎦"
      ]
     },
     "execution_count": 39,
     "metadata": {},
     "output_type": "execute_result"
    }
   ],
   "source": [
    "ros = sp.Matrix([rosenbrock(x)])\n",
    "ros"
   ]
  },
  {
   "cell_type": "code",
   "execution_count": 40,
   "metadata": {},
   "outputs": [
    {
     "data": {
      "image/png": "[encoded data removed]",
      "text/latex": [
       "$$\\left[\\begin{matrix}- 400 x_{1} \\left(- x_{1}^{2} + x_{2}\\right) + 2 x_{1} - 2\\\\- 200 x_{1}^{2} + 200 x_{2}\\end{matrix}\\right]$$"
      ],
      "text/plain": [
       "⎡         ⎛    2     ⎞           ⎤\n",
       "⎢- 400⋅x₁⋅⎝- x₁  + x₂⎠ + 2⋅x₁ - 2⎥\n",
       "⎢                                ⎥\n",
       "⎢               2                ⎥\n",
       "⎣       - 200⋅x₁  + 200⋅x₂       ⎦"
      ]
     },
     "execution_count": 40,
     "metadata": {},
     "output_type": "execute_result"
    }
   ],
   "source": [
    "jacRos = ros.jacobian(x).T\n",
    "jacRos"
   ]
  },
  {
   "cell_type": "markdown",
   "metadata": {},
   "source": [
    "Podemos evaluar el resultado del gradiente usando la función **subs** la cual substituye las variables por valores, esta requiere un parámetro de la forma ***[ (old, new), ... ]*** donde *old* es la variable a remplazar y *new* el valor."
   ]
  },
  {
   "cell_type": "code",
   "execution_count": 41,
   "metadata": {},
   "outputs": [
    {
     "data": {
      "image/png": "[encoded data removed]",
      "text/latex": [
       "$$\\left[\\begin{matrix}-80.0\\\\40.0\\end{matrix}\\right]$$"
      ],
      "text/plain": [
       "⎡-80.0⎤\n",
       "⎢     ⎥\n",
       "⎣40.0 ⎦"
      ]
     },
     "execution_count": 41,
     "metadata": {},
     "output_type": "execute_result"
    }
   ],
   "source": [
    "x0 = [1, 1.2]\n",
    "evalJ = jacRos.subs([(x[i], x0[i]) for i in range(len(x0))])\n",
    "evalJ"
   ]
  },
  {
   "cell_type": "markdown",
   "metadata": {},
   "source": [
    "Podemos juntar todo esto para crear una función que regresa el gradiente"
   ]
  },
  {
   "cell_type": "code",
   "execution_count": 42,
   "metadata": {},
   "outputs": [
    {
     "data": {
      "text/plain": [
       "array([-80.,  40.])"
      ]
     },
     "execution_count": 42,
     "metadata": {},
     "output_type": "execute_result"
    }
   ],
   "source": [
    "def sym_grad(f, x):\n",
    "    x_s = sp.symbols('x0:{}'.format(len(x)))\n",
    "    mtx = sp.Matrix([f(x_s)])\n",
    "    jac = mtx.jacobian(x_s)\n",
    "    evl = jac.subs([(x_s[i], x[i]) for i in range(len(x0))])\n",
    "    return np.array( [float(v) for v in evl])\n",
    "sym_grad(rosenbrock, x0) #comprobamos funcionamiento\n",
    "\n",
    "def sym_grad_batch(f, x, syms):\n",
    "    pass"
   ]
  },
  {
   "cell_type": "code",
   "execution_count": 43,
   "metadata": {},
   "outputs": [],
   "source": [
    "def rosenbrock_grad(x):\n",
    "    return sym_grad(rosenbrock, x) "
   ]
  },
  {
   "cell_type": "code",
   "execution_count": 103,
   "metadata": {},
   "outputs": [
    {
     "data": {
      "text/plain": [
       "array([4.        , 0.010496  , 0.01519294, 0.1931574 , 0.01465906,\n",
       "       0.05045281, 0.01124561, 0.01510121, 0.00710525, 0.00702112,\n",
       "       0.00520279])"
      ]
     },
     "execution_count": 103,
     "metadata": {},
     "output_type": "execute_result"
    }
   ],
   "source": [
    "nag(rosenbrock, rosenbrock_grad, x0, 10, 0.001, 0.2)"
   ]
  },
  {
   "cell_type": "code",
   "execution_count": 104,
   "metadata": {},
   "outputs": [
    {
     "data": {
      "text/plain": [
       "array([4.        , 1.21999893, 0.24952355, 0.03511411, 0.00849597,\n",
       "       0.00468432, 0.00416825, 0.00409292, 0.00407812, 0.00407154,\n",
       "       0.00406609])"
      ]
     },
     "execution_count": 104,
     "metadata": {},
     "output_type": "execute_result"
    }
   ],
   "source": [
    "adagrad(rosenbrock, rosenbrock_grad, x0, 10, 0.1)"
   ]
  },
  {
   "cell_type": "code",
   "execution_count": 92,
   "metadata": {},
   "outputs": [],
   "source": [
    "def adam(f, gradf, x0, nIter, alpha, epsilon = 0.001):\n",
    "    pass"
   ]
  },
  {
   "cell_type": "code",
   "execution_count": null,
   "metadata": {},
   "outputs": [],
   "source": []
  }
 ],
 "metadata": {
  "kernelspec": {
   "display_name": "Python 3",
   "language": "python",
   "name": "python3"
  },
  "language_info": {
   "codemirror_mode": {
    "name": "ipython",
    "version": 3
   },
   "file_extension": ".py",
   "mimetype": "text/x-python",
   "name": "python",
   "nbconvert_exporter": "python",
   "pygments_lexer": "ipython3",
   "version": "3.6.5"
  }
 },
 "nbformat": 4,
 "nbformat_minor": 2
}
