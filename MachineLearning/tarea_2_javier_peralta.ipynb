{
 "cells": [
  {
   "cell_type": "markdown",
   "metadata": {},
   "source": [
    "# Tarea 2\n",
    "## Francisco Javier Peralta Ramírez"
   ]
  },
  {
   "cell_type": "code",
   "execution_count": 5,
   "metadata": {},
   "outputs": [],
   "source": [
    "import matplotlib.pyplot as plt\n",
    "import numpy as np\n",
    "import sympy as sp\n",
    "\n",
    "import warnings\n",
    "sp.init_printing()\n",
    "warnings.filterwarnings('ignore')"
   ]
  },
  {
   "cell_type": "code",
   "execution_count": null,
   "metadata": {},
   "outputs": [],
   "source": [
    "def adagrad(f, gradf, x0, nIter, alpha):\n",
    "    pass\n",
    "\n",
    "def nag(f, gradf, x0, nIter, alpha):\n",
    "    pass\n",
    "\n",
    "def adam(f, gradf, x0, nIter, alpha):\n",
    "    pass"
   ]
  },
  {
   "cell_type": "code",
   "execution_count": 27,
   "metadata": {},
   "outputs": [],
   "source": [
    "def rosembrock(x):\n",
    "    fx = 0\n",
    "    for i in range(len(x) - 1):\n",
    "        fx += 100 * (x[i+1] - x[i]**2)**2 + (1 - x[i]**2)\n",
    "    return fx"
   ]
  },
  {
   "cell_type": "code",
   "execution_count": 67,
   "metadata": {},
   "outputs": [],
   "source": [
    "x = sp.symbols('x1:11')"
   ]
  },
  {
   "cell_type": "code",
   "execution_count": 68,
   "metadata": {},
   "outputs": [
    {
     "data": {
      "image/png": "[encoded data removed]",
      "text/latex": [
       "$$- x_{1}^{2} - x_{2}^{2} - x_{3}^{2} - x_{4}^{2} - x_{5}^{2} - x_{6}^{2} - x_{7}^{2} - x_{8}^{2} - x_{9}^{2} + 100 \\left(- x_{1}^{2} + x_{2}\\right)^{2} + 100 \\left(x_{10} - x_{9}^{2}\\right)^{2} + 100 \\left(- x_{2}^{2} + x_{3}\\right)^{2} + 100 \\left(- x_{3}^{2} + x_{4}\\right)^{2} + 100 \\left(- x_{4}^{2} + x_{5}\\right)^{2} + 100 \\left(- x_{5}^{2} + x_{6}\\right)^{2} + 100 \\left(- x_{6}^{2} + x_{7}\\right)^{2} + 100 \\left(- x_{7}^{2} + x_{8}\\right)^{2} + 100 \\left(- x_{8}^{2} + x_{9}\\right)^{2} + 9$$"
      ],
      "text/plain": [
       "                                                                        2     \n",
       "    2     2     2     2     2     2     2     2     2       ⎛    2     ⎞      \n",
       "- x₁  - x₂  - x₃  - x₄  - x₅  - x₆  - x₇  - x₈  - x₉  + 100⋅⎝- x₁  + x₂⎠  + 10\n",
       "\n",
       "             2                   2                   2                   2    \n",
       "  ⎛        2⎞        ⎛    2     ⎞        ⎛    2     ⎞        ⎛    2     ⎞     \n",
       "0⋅⎝x₁₀ - x₉ ⎠  + 100⋅⎝- x₂  + x₃⎠  + 100⋅⎝- x₃  + x₄⎠  + 100⋅⎝- x₄  + x₅⎠  + 1\n",
       "\n",
       "               2                   2                   2                   2  \n",
       "   ⎛    2     ⎞        ⎛    2     ⎞        ⎛    2     ⎞        ⎛    2     ⎞   \n",
       "00⋅⎝- x₅  + x₆⎠  + 100⋅⎝- x₆  + x₇⎠  + 100⋅⎝- x₇  + x₈⎠  + 100⋅⎝- x₈  + x₉⎠  +\n",
       "\n",
       "  \n",
       "  \n",
       " 9"
      ]
     },
     "execution_count": 68,
     "metadata": {},
     "output_type": "execute_result"
    }
   ],
   "source": [
    "rosembrock(x)"
   ]
  },
  {
   "cell_type": "code",
   "execution_count": 69,
   "metadata": {},
   "outputs": [
    {
     "data": {
      "image/png": "[encoded data removed]",
      "text/latex": [
       "$$\\left[\\begin{matrix}- x_{1}^{2} - x_{2}^{2} - x_{3}^{2} - x_{4}^{2} - x_{5}^{2} - x_{6}^{2} - x_{7}^{2} - x_{8}^{2} - x_{9}^{2} + 100 \\left(- x_{1}^{2} + x_{2}\\right)^{2} + 100 \\left(x_{10} - x_{9}^{2}\\right)^{2} + 100 \\left(- x_{2}^{2} + x_{3}\\right)^{2} + 100 \\left(- x_{3}^{2} + x_{4}\\right)^{2} + 100 \\left(- x_{4}^{2} + x_{5}\\right)^{2} + 100 \\left(- x_{5}^{2} + x_{6}\\right)^{2} + 100 \\left(- x_{6}^{2} + x_{7}\\right)^{2} + 100 \\left(- x_{7}^{2} + x_{8}\\right)^{2} + 100 \\left(- x_{8}^{2} + x_{9}\\right)^{2} + 9\\end{matrix}\\right]$$"
      ],
      "text/plain": [
       "⎡                                                                        2    \n",
       "⎢    2     2     2     2     2     2     2     2     2       ⎛    2     ⎞     \n",
       "⎣- x₁  - x₂  - x₃  - x₄  - x₅  - x₆  - x₇  - x₈  - x₉  + 100⋅⎝- x₁  + x₂⎠  + 1\n",
       "\n",
       "              2                   2                   2                   2   \n",
       "   ⎛        2⎞        ⎛    2     ⎞        ⎛    2     ⎞        ⎛    2     ⎞    \n",
       "00⋅⎝x₁₀ - x₉ ⎠  + 100⋅⎝- x₂  + x₃⎠  + 100⋅⎝- x₃  + x₄⎠  + 100⋅⎝- x₄  + x₅⎠  + \n",
       "\n",
       "                2                   2                   2                   2 \n",
       "    ⎛    2     ⎞        ⎛    2     ⎞        ⎛    2     ⎞        ⎛    2     ⎞  \n",
       "100⋅⎝- x₅  + x₆⎠  + 100⋅⎝- x₆  + x₇⎠  + 100⋅⎝- x₇  + x₈⎠  + 100⋅⎝- x₈  + x₉⎠  \n",
       "\n",
       "   ⎤\n",
       "   ⎥\n",
       "+ 9⎦"
      ]
     },
     "execution_count": 69,
     "metadata": {},
     "output_type": "execute_result"
    }
   ],
   "source": [
    "ros = sp.Matrix([rosembrock(x)])\n",
    "ros"
   ]
  },
  {
   "cell_type": "code",
   "execution_count": 70,
   "metadata": {},
   "outputs": [
    {
     "data": {
      "image/png": "[encoded data removed]",
      "text/latex": [
       "$$\\left[\\begin{matrix}- 400 x_{1} \\left(- x_{1}^{2} + x_{2}\\right) - 2 x_{1}\\\\- 200 x_{1}^{2} - 400 x_{2} \\left(- x_{2}^{2} + x_{3}\\right) + 198 x_{2}\\\\- 200 x_{2}^{2} - 400 x_{3} \\left(- x_{3}^{2} + x_{4}\\right) + 198 x_{3}\\\\- 200 x_{3}^{2} - 400 x_{4} \\left(- x_{4}^{2} + x_{5}\\right) + 198 x_{4}\\\\- 200 x_{4}^{2} - 400 x_{5} \\left(- x_{5}^{2} + x_{6}\\right) + 198 x_{5}\\\\- 200 x_{5}^{2} - 400 x_{6} \\left(- x_{6}^{2} + x_{7}\\right) + 198 x_{6}\\\\- 200 x_{6}^{2} - 400 x_{7} \\left(- x_{7}^{2} + x_{8}\\right) + 198 x_{7}\\\\- 200 x_{7}^{2} - 400 x_{8} \\left(- x_{8}^{2} + x_{9}\\right) + 198 x_{8}\\\\- 200 x_{8}^{2} - 400 x_{9} \\left(x_{10} - x_{9}^{2}\\right) + 198 x_{9}\\\\200 x_{10} - 200 x_{9}^{2}\\end{matrix}\\right]$$"
      ],
      "text/plain": [
       "⎡               ⎛    2     ⎞             ⎤\n",
       "⎢      - 400⋅x₁⋅⎝- x₁  + x₂⎠ - 2⋅x₁      ⎥\n",
       "⎢                                        ⎥\n",
       "⎢        2          ⎛    2     ⎞         ⎥\n",
       "⎢- 200⋅x₁  - 400⋅x₂⋅⎝- x₂  + x₃⎠ + 198⋅x₂⎥\n",
       "⎢                                        ⎥\n",
       "⎢        2          ⎛    2     ⎞         ⎥\n",
       "⎢- 200⋅x₂  - 400⋅x₃⋅⎝- x₃  + x₄⎠ + 198⋅x₃⎥\n",
       "⎢                                        ⎥\n",
       "⎢        2          ⎛    2     ⎞         ⎥\n",
       "⎢- 200⋅x₃  - 400⋅x₄⋅⎝- x₄  + x₅⎠ + 198⋅x₄⎥\n",
       "⎢                                        ⎥\n",
       "⎢        2          ⎛    2     ⎞         ⎥\n",
       "⎢- 200⋅x₄  - 400⋅x₅⋅⎝- x₅  + x₆⎠ + 198⋅x₅⎥\n",
       "⎢                                        ⎥\n",
       "⎢        2          ⎛    2     ⎞         ⎥\n",
       "⎢- 200⋅x₅  - 400⋅x₆⋅⎝- x₆  + x₇⎠ + 198⋅x₆⎥\n",
       "⎢                                        ⎥\n",
       "⎢        2          ⎛    2     ⎞         ⎥\n",
       "⎢- 200⋅x₆  - 400⋅x₇⋅⎝- x₇  + x₈⎠ + 198⋅x₇⎥\n",
       "⎢                                        ⎥\n",
       "⎢        2          ⎛    2     ⎞         ⎥\n",
       "⎢- 200⋅x₇  - 400⋅x₈⋅⎝- x₈  + x₉⎠ + 198⋅x₈⎥\n",
       "⎢                                        ⎥\n",
       "⎢        2          ⎛        2⎞          ⎥\n",
       "⎢- 200⋅x₈  - 400⋅x₉⋅⎝x₁₀ - x₉ ⎠ + 198⋅x₉ ⎥\n",
       "⎢                                        ⎥\n",
       "⎢                           2            ⎥\n",
       "⎣           200⋅x₁₀ - 200⋅x₉             ⎦"
      ]
     },
     "execution_count": 70,
     "metadata": {},
     "output_type": "execute_result"
    }
   ],
   "source": [
    "ros.jacobian(x).T"
   ]
  },
  {
   "cell_type": "code",
   "execution_count": null,
   "metadata": {},
   "outputs": [],
   "source": []
  }
 ],
 "metadata": {
  "kernelspec": {
   "display_name": "Python 3",
   "language": "python",
   "name": "python3"
  },
  "language_info": {
   "codemirror_mode": {
    "name": "ipython",
    "version": 3
   },
   "file_extension": ".py",
   "mimetype": "text/x-python",
   "name": "python",
   "nbconvert_exporter": "python",
   "pygments_lexer": "ipython3",
   "version": "3.6.6"
  }
 },
 "nbformat": 4,
 "nbformat_minor": 2
}
