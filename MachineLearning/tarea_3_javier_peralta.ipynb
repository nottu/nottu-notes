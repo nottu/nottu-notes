{
 "cells": [
  {
   "cell_type": "markdown",
   "metadata": {},
   "source": [
    "# Tarea 2\n",
    "## Francisco Javier Peralta Ramírez"
   ]
  },
  {
   "cell_type": "code",
   "execution_count": 1,
   "metadata": {},
   "outputs": [],
   "source": [
    "import matplotlib.pyplot as plt\n",
    "from matplotlib import ticker, cm\n",
    "from matplotlib.colors import LogNorm\n",
    "from numba import jit\n",
    "\n",
    "import numpy as np\n",
    "import sympy as sp\n",
    "from functools import reduce\n",
    "from sklearn import datasets\n",
    "\n",
    "\n",
    "import warnings\n",
    "sp.init_printing()\n",
    "iris = datasets.load_iris()\n",
    "warnings.filterwarnings('ignore')"
   ]
  },
  {
   "cell_type": "markdown",
   "metadata": {},
   "source": [
    "El algoritmo de regresión logistica es un clasificador binario para clases linealmente separables. La idea del algoritmo es poner una sigmoide sobre los datos de tal modo que el valor de cada dato, al evaluarse sobre la sigmoide representa la probabilidad de que pertenezca a la clase 1 es decir $P( Y = 1 | X = x ) $. La funcion sigmoide es:\n",
    "\n",
    "$$ \\phi(x) = \\frac{1}{1 + e^{-z}}$$\n",
    "\n",
    "Esta función tiene la siguiente forma en $\\mathbb{R}^1$"
   ]
  },
  {
   "cell_type": "code",
   "execution_count": 2,
   "metadata": {},
   "outputs": [
    {
     "data": {
      "image/png": "[encoded data removed]",
      "text/plain": [
       "<Figure size 432x288 with 1 Axes>"
      ]
     },
     "metadata": {},
     "output_type": "display_data"
    }
   ],
   "source": [
    "def sigmoid(x, lib=np):\n",
    "    return 1/(1 + lib.exp(-x))\n",
    "v = np.arange( -10, 10, 0.1)\n",
    "plt.plot( v, sigmoid( v) , label=\"$\\phi(x)$\")\n",
    "plt.axhline(0.0, ls='dotted', color='k')\n",
    "plt.axhline(1.0, ls='dotted', color='k')\n",
    "plt.axhline(0.5, color='k', label=\"P(Y = 1 | X = x)  = 0.5\")\n",
    "plt.yticks([0, 0.5, 1])\n",
    "plt.legend()\n",
    "plt.show()"
   ]
  },
  {
   "cell_type": "markdown",
   "metadata": {},
   "source": [
    "Consideremos el caso simple de separar datos de dos Gaussianas"
   ]
  },
  {
   "cell_type": "code",
   "execution_count": 3,
   "metadata": {},
   "outputs": [
    {
     "data": {
      "image/png": "[encoded data removed]",
      "text/plain": [
       "<Figure size 432x288 with 1 Axes>"
      ]
     },
     "metadata": {},
     "output_type": "display_data"
    },
    {
     "name": "stdout",
     "output_type": "stream",
     "text": [
      "[1.17278253 1.02828968]\n"
     ]
    }
   ],
   "source": [
    "n_samples = 30\n",
    "x1 = np.random.multivariate_normal(np.array([0,0]), np.array([[1,0], [0, 1]]), n_samples)\n",
    "x2 = np.random.multivariate_normal(np.array([2,2]), np.array([[1,0], [0, 1]]), n_samples)\n",
    "\n",
    "x = np.append(x1, x2, axis = 0)\n",
    "# x = x - x.mean(axis=0) #centramos los datos para acelerar la convergencia\n",
    "y = np.append([0] * len(x1) , [1] * len(x2)) # creamos nuestro vector de Y\n",
    "\n",
    "plt.scatter(x[:n_samples,0], x[:n_samples,1] , label = \"$Y = 0$\")\n",
    "plt.scatter(x[n_samples:,0], x[n_samples:,1] , label = \"$Y = 1$\")\n",
    "plt.legend()\n",
    "plt.show()\n",
    "\n",
    "print(x.mean(axis=0))"
   ]
  },
  {
   "cell_type": "markdown",
   "metadata": {},
   "source": [
    "Podemos hacer el ajuste de esta sigmoide minimizando el error de clasificación\n",
    "\n",
    "$$ \\min_{w}F(w) = \\frac{1}{2} \\sum_{i=1}^{m} (y_i - \\phi(\\mathbf{w}^T\\mathbf{x}_i))^2 $$\n",
    "\n",
    "donde $\\mathbf{w}$ es un vector de pesos y $\\mathbf{x}_i$ es nuestra variable en $\\mathbb{R}^n$. Esto lo podemos resolver con el métdo de Levenberg-Marquardt ya que este sólo nos pide el Jacbobiano (primera derivada). En cada iteración del algoritmo LM se resuelve\n",
    "\n",
    "$$ \\min_{p} \\frac{1}{2} ||J_kp+r_k||^2 \\,\\,\\,\\,\\, ||p|| \\leq \\delta_k$$\n",
    "\n",
    "donde $r_i = y_i - \\phi(\\mathbf{w}^T\\mathbf{x}_i)$. Podemos ver que \n",
    "$$\n",
    "\\frac{\\partial r_i}{\\partial w_j} =  - \\frac{\\partial \\phi(\\mathbf{w}^T\\mathbf{x}_i)}{\\partial w_j} x_{i,j}$$ Donde \n",
    "\n",
    "\\begin{align}\n",
    "\\frac{\\partial{\\phi(z)}}{\\partial{z}} &= \\frac{e^{-z}}{ (1 + e ^ {-z})^2}\\\\\n",
    "&= \\left(\\frac{1}{1 + e^{-z}}\\right)\\left(\\frac{1 - 1 + e^{-z}}{1 + e^{-z}}\\right)\\\\\n",
    "&= \\phi(z)[1-\\phi(z)]\n",
    "\\end{align}\n",
    "\n",
    "Por lo cual\n",
    "$$\n",
    "\\frac{\\partial r_i}{\\partial w_j} = - \\phi(\\mathbf{w}^T\\mathbf{x}_i)[1 - \\phi(\\mathbf{w}^T\\mathbf{x}_i)] x_{i,j}\n",
    "$$"
   ]
  },
  {
   "cell_type": "code",
   "execution_count": 4,
   "metadata": {},
   "outputs": [],
   "source": [
    "def logistic_function(x, w, lib=np):\n",
    "    v = w[0]\n",
    "    for i in range(len(x)):\n",
    "        v += w[i+1] * x[i]\n",
    "    return sigmoid(v, lib)\n",
    "def R_sigmoid(y, x, w, lib=np):\n",
    "    return logistic_function(x, w, lib=lib) - y\n",
    "\n",
    "def __jacobiano_sigmoid(f, y, x, w):\n",
    "    w_s = sp.symbols(\"w0:{}\".format(len(w)))\n",
    "    x_s = sp.symbols(\"x0:{}\".format(len(w) - 1))\n",
    "    y_s = sp.Symbol(\"y\")\n",
    "    mtx = sp.Matrix([f( y_s , x_s, w_s , lib=sp)]) #el reduce nos da la suma de todas las w[i]\n",
    "    jac = mtx.jacobian(w_s)\n",
    "    jac_f  = [sp.lambdify((x_s + w_s), jac[i]) for i in range(len(w))]\n",
    "    def __do_grad(w):\n",
    "        jac_eval = [ [jac_fn(*xi, *w) for jac_fn in jac_f] for xi in x]\n",
    "        return np.array(jac_eval)\n",
    "    return __do_grad\n",
    "\n",
    "def __max_diag(A): #valor maximo en diagonal de matriz cuadrada\n",
    "    l = A[0,0]\n",
    "    for i in range(1, len(A)):\n",
    "        l = A[i,i] if(A[i,i] > l) else l\n",
    "    return l"
   ]
  },
  {
   "cell_type": "code",
   "execution_count": 5,
   "metadata": {},
   "outputs": [],
   "source": [
    "def __R(y, x, w, lib=np):\n",
    "    return np.array([ R_sigmoid(y[i], x[i], w, lib=lib) for i in range(len(x))])\n",
    "\n",
    "def __LM(R, J, x, y, w, mk=100, toler = 1E-10, v=1.2):\n",
    "    k = 0\n",
    "    r = R(y, x, w)\n",
    "    j = J(w)\n",
    "    JJ = j.T@j\n",
    "    l = __max_diag(JJ)\n",
    "    norm_sq_r = r.T @ r\n",
    "    b = j.T @r\n",
    "    while np.linalg.norm( b ) > toler and k < mk:\n",
    "        A = JJ + np.identity(JJ.shape[0]) * l\n",
    "        p = np.linalg.solve(A, -b)\n",
    "        nw = w + p\n",
    "        nr = R(y, x, w)\n",
    "        norm_sq_nr = nr.T @ nr\n",
    "        if( norm_sq_nr <= norm_sq_r):\n",
    "            norm_sq_r = norm_sq_nr\n",
    "            r = nr\n",
    "            w = nw\n",
    "            l /= v\n",
    "            j = J(w)\n",
    "            JJ = j.T@j\n",
    "            b = j.T @r\n",
    "        else:\n",
    "            l *= v\n",
    "        k += 1\n",
    "    return w"
   ]
  },
  {
   "cell_type": "code",
   "execution_count": 6,
   "metadata": {},
   "outputs": [
    {
     "name": "stdout",
     "output_type": "stream",
     "text": [
      "[-2.29746673  0.55968176  0.98821626]\n",
      "CPU times: user 2.3 s, sys: 5.11 ms, total: 2.3 s\n",
      "Wall time: 2.3 s\n"
     ]
    },
    {
     "data": {
      "image/png": "[encoded data removed]",
      "text/plain": [
       "<Figure size 432x288 with 2 Axes>"
      ]
     },
     "metadata": {},
     "output_type": "display_data"
    }
   ],
   "source": [
    "%%time\n",
    "def rl_ls(y, x, k=10000): #encapsulamos la funcion para reusar facil\n",
    "    w = np.append([0], [1] * x.shape[1])\n",
    "    jf = __jacobiano_sigmoid(R_sigmoid, y, x, w)\n",
    "    return __LM(__R, jf, x, y, w, k)\n",
    "w = rl_ls(y, x)\n",
    "print(w)\n",
    "\n",
    "def eval_in_space(w):\n",
    "    N = 100\n",
    "    x_v = np.linspace(x.min()-1, x.max()+1, N)\n",
    "    y_v = np.linspace(x.min()-1, x.max()+1, N)\n",
    "    X_v, Y_v = np.meshgrid(x_v, y_v)\n",
    "    XX = np.array([X_v.ravel(), Y_v.ravel()]).T\n",
    "    Z = np.array([logistic_function(xi, w) for xi in XX])\n",
    "    return X_v, Y_v, Z.reshape(X_v.shape)\n",
    "X, Y, Z = eval_in_space(w)\n",
    "cs = plt.contourf(X, Y, Z, locator=ticker.LinearLocator(), cmap=cm.PuBu_r)\n",
    "plt.scatter(x[:n_samples, 0], x[:n_samples, 1] , label = \"$Y = 0$\", color = '#AB47BC')\n",
    "plt.scatter(x[n_samples:, 0], x[n_samples:, 1] , label = \"$Y = 1$\", color = '#03DAc6')\n",
    "cbar = plt.colorbar(cs)"
   ]
  },
  {
   "cell_type": "markdown",
   "metadata": {},
   "source": [
    "La regresión logistica también se puede hacer resolviendo el problema de optimizacíon dado por la función de máxima verosimilitud. Para esto consideramos que $p(y_i|\\mathbf{x}_i ; \\mathbf{w}) = y_i\\phi(\\mathbf{w}^T\\mathbf{x}_i) + (1 - y_i)(1 - \\phi(\\mathbf{w}^T\\mathbf{x}_i))$\n",
    "\n",
    "donde $ x_i = [1, x_{i,0}, x_{i,1}, \\cdots x_{i,m}]$\n",
    "\n",
    "$$L(\\mathbf{w}) = \\prod_i^m p(y_i|\\mathbf{x}_i ; \\mathbf{w}) = \\prod_{i = 0}^m  y_i\\phi(\\mathbf{w}^T\\mathbf{x}_i) + (1 - y_i)(1 - \\phi(\\mathbf{w}^T\\mathbf{x}_i))$$"
   ]
  },
  {
   "cell_type": "code",
   "execution_count": 7,
   "metadata": {},
   "outputs": [],
   "source": [
    "def __verosimilitud__v1(y, x, w, f):\n",
    "    l = 1\n",
    "    for i in range(len(y)):\n",
    "        fv = f(x[i], w)\n",
    "        l *= (y[i] * fv + (1 - y[i])*(1 - fv))\n",
    "    return l"
   ]
  },
  {
   "cell_type": "markdown",
   "metadata": {},
   "source": [
    "Derivamos con $w_j$\n",
    "\n",
    "$$\\frac{\\partial{p(y_i|\\mathbf{x}_i ; \\mathbf{w})}}{ \\partial{w_j} } = \n",
    "y_i\\phi(\\mathbf{w}^T\\mathbf{x}_i)[1 - \\phi(\\mathbf{w}^T\\mathbf{x}_i)]x_{ij} - (1 - y_i)\\phi(\\mathbf{w}^T\\mathbf{x}_i)[1 - \\phi(\\mathbf{w}^T\\mathbf{x}_i)]x_{ij}\n",
    "$$\n",
    "\n",
    "$$ \\frac{\\partial{L(\\mathbf{w})}}{ \\partial{w_j} } = \\sum_{i=0}^m\n",
    "\\left(\n",
    "\\frac{\\partial{p(y_i|\\mathbf{x}_i ; \\mathbf{w})}}{ \\partial{w_j} }\n",
    "\\prod_{k=0,k\\neq i}^m p(y_k|\\mathbf{x}_k ; \\mathbf{w})\n",
    "\\right)\n",
    "$$"
   ]
  },
  {
   "cell_type": "code",
   "execution_count": 8,
   "metadata": {},
   "outputs": [],
   "source": [
    "def __grad_verosimilitud__v1(y, x, w, f):\n",
    "    p_e = [(y[i] * f(x[i], w) + (1 - y[i])*(1 - f(x[i], w))) for i in range(len(y))]\n",
    "    p_r = reduce(lambda x, y: x * y, p_e)\n",
    "    \n",
    "    gl = []\n",
    "    for j in range(len(w)):\n",
    "        l = 0\n",
    "        for i in range(len(y)):\n",
    "            fx  = f(x[i], w)\n",
    "            xij = np.append([1], x[i])[j]\n",
    "            lt  = y[i] * fx * (1 - fx) * xij - (1 - y[i]) * fx * (1 - fx) * xij\n",
    "            l  += lt * p_r / p_e[i] \n",
    "        gl.append(l)\n",
    "    return np.array(gl)"
   ]
  },
  {
   "cell_type": "code",
   "execution_count": 9,
   "metadata": {},
   "outputs": [],
   "source": [
    "#gradiente de descenso con backtracking\n",
    "def gdb(w, f, gf, params, a=1, m=1.5, k=1000):\n",
    "    vw = f(w=w, **params) ## ** descomprime el diccionario\n",
    "    for i in range(k):\n",
    "        w1  = w + a * gf(w=w, **params)\n",
    "        nvw = f(w=w1, **params)\n",
    "        if(vw > nvw):\n",
    "            a /= m #si no mejora queremos pasos mas pequeños\n",
    "        else:\n",
    "            a *= m #si mejora tomamos pasos mas grandes (podria ser despues de n pasos...)\n",
    "            vw = nvw\n",
    "            w = w1\n",
    "    return w"
   ]
  },
  {
   "cell_type": "code",
   "execution_count": 10,
   "metadata": {},
   "outputs": [
    {
     "name": "stdout",
     "output_type": "stream",
     "text": [
      "[-5.4452788   2.28590554  2.55383451]\n"
     ]
    },
    {
     "data": {
      "image/png": "[encoded data removed]",
      "text/plain": [
       "<Figure size 432x288 with 2 Axes>"
      ]
     },
     "metadata": {},
     "output_type": "display_data"
    }
   ],
   "source": [
    "def rl_v1(y, x, k=1000): #podriamos exponer mas parametros...\n",
    "    params = {'x':x, 'y':y, 'f':logistic_function}\n",
    "    w = np.append([0], [1] * x.shape[1])\n",
    "    w = gdb(w, \n",
    "            __verosimilitud__v1, \n",
    "            __grad_verosimilitud__v1,\n",
    "            params, k=k)\n",
    "    return w\n",
    "\n",
    "w = rl_v1(y, x)\n",
    "print(w)\n",
    "\n",
    "X, Y, Z = eval_in_space(w)\n",
    "\n",
    "cs = plt.contourf(X, Y, Z, locator=ticker.LinearLocator(), cmap=cm.PuBu_r)\n",
    "plt.scatter(x[:n_samples,0], x[:n_samples,1] , label = \"$Y = 0$\", color = '#AB47BC')\n",
    "plt.scatter(x[n_samples:,0], x[n_samples:,1] , label = \"$Y = 1$\", color = '#03DAc6')\n",
    "cbar = plt.colorbar(cs)"
   ]
  },
  {
   "cell_type": "markdown",
   "metadata": {},
   "source": [
    "Como $y_i \\in \\{0,1\\}$ es más sencillo si vemos $p(y_i|\\mathbf{x}_i ; \\mathbf{w}) = \\phi(\\mathbf{w}^T\\mathbf{x}_i)^{y_i} + (1 - \\phi(\\mathbf{w}^T\\mathbf{x}_i))^{1-y_i}$. Esto nos da \n",
    "\n",
    "$$L(w) =  \\prod_{i = 0}^m  \\phi(\\mathbf{w}^T\\mathbf{x}_i)^{y_i} + (1 - \\phi(\\mathbf{w}^T\\mathbf{x}_i))^{(1 - y_i)}$$\n",
    "\n",
    "dado que maximizar la verosimilitud equivale a maximizar la log-verosimilitud\n",
    "\n",
    "$$\\mathcal{l}(w) = \\sum_{i = 0}^m  y_i\\phi(\\mathbf{w}^T\\mathbf{x}_i) + (1 - y_i)(1 - \\phi(\\mathbf{w}^T\\mathbf{x}_i))$$"
   ]
  },
  {
   "cell_type": "code",
   "execution_count": 11,
   "metadata": {},
   "outputs": [],
   "source": [
    "def __log_verosimilitud(y, x, w, f):\n",
    "    l = 0\n",
    "    for i in range(len(y)):\n",
    "        lf = np.log(f(x[i], w)) \n",
    "        l += (y[i] * lf + (1 - y[i])*(1 - lf))\n",
    "    return l"
   ]
  },
  {
   "cell_type": "markdown",
   "metadata": {},
   "source": [
    "Para obtener las derivadas parciales, primero consideramos \n",
    "\n",
    "\\begin{align}\n",
    "\\frac{\\partial}{\\partial(z)} (y \\log\\phi(z) + (1-y)log[1 - \\phi(z)]) &= \\left(\\frac{y}{\\phi(z)} - \\frac{1-y}{1-\\phi(z)}\\right)\\frac{\\partial\\phi(z_i)}{\\partial{w_j}}\\\\\n",
    "&= \\left(\\frac{y}{\\phi(z)} - \\frac{1-y}{1-\\phi(z)}\\right)\\phi(z)[1 - \\phi(z)]\\\\\n",
    "&= y[1 - \\phi(z)] - (1 - y)\\phi(z)\\\\\n",
    "&= y - \\phi(z)\n",
    "\\end{align}"
   ]
  },
  {
   "cell_type": "markdown",
   "metadata": {},
   "source": [
    "Con esto podemos econtrar más facilmente la derivada parcial\n",
    "\n",
    "\\begin{align}\n",
    "    \\frac{\\partial l(\\mathbf{w})}{\\partial w_j} &= \\sum_{i=0}^m \\frac{\\partial}{\\partial(z)} (y \\log\\phi(z) + (1-y)log[1 - \\phi(z)]) \\frac{\\partial z_i}{\\partial w_j}\\\\\n",
    "    &= \\sum_{i=0}^m [y_i - \\phi(\\mathbf{x}_i^T\\mathbf{w})]x_{ij}\n",
    "\\end{align}"
   ]
  },
  {
   "cell_type": "code",
   "execution_count": 12,
   "metadata": {},
   "outputs": [],
   "source": [
    "def __grad_log_verosimilitud(y, x, w, f):\n",
    "    gl = np.zeros_like(w)\n",
    "    for j in range(len(w)):\n",
    "        l = 0\n",
    "        for i in range(len(y)):\n",
    "            fx  = f(x[i], w)\n",
    "            xij = np.append([1], x[i])[j]\n",
    "            l += (y[i] - fx) * xij\n",
    "        gl[j] = l\n",
    "    return np.array(gl)"
   ]
  },
  {
   "cell_type": "code",
   "execution_count": 13,
   "metadata": {},
   "outputs": [
    {
     "data": {
      "text/plain": [
       "array([-8.82094120e-09,  7.55899538e-08,  5.26171516e-08])"
      ]
     },
     "execution_count": 13,
     "metadata": {},
     "output_type": "execute_result"
    }
   ],
   "source": [
    "__grad_log_verosimilitud(y, x, w, logistic_function)"
   ]
  },
  {
   "cell_type": "code",
   "execution_count": 14,
   "metadata": {},
   "outputs": [
    {
     "name": "stdout",
     "output_type": "stream",
     "text": [
      "[-14.07075887   3.76917838   6.18913839]\n"
     ]
    },
    {
     "data": {
      "image/png": "[encoded data removed]",
      "text/plain": [
       "<Figure size 432x288 with 2 Axes>"
      ]
     },
     "metadata": {},
     "output_type": "display_data"
    }
   ],
   "source": [
    "def rl_v2(y, x, k=1000): #podriamos exponer mas parametros...\n",
    "    params = {'x':x, 'y':y, 'f':logistic_function}\n",
    "    w = np.append([0], [1] * x.shape[1])\n",
    "    w = gdb(w,\n",
    "            __log_verosimilitud, \n",
    "            __grad_log_verosimilitud,\n",
    "            params, k=k)\n",
    "    return w\n",
    "\n",
    "w = rl_v2(y, x)\n",
    "print(w)\n",
    "\n",
    "X, Y, Z = eval_in_space(w)\n",
    "\n",
    "cs = plt.contourf(X, Y, Z, locator=ticker.LinearLocator(), cmap=cm.PuBu_r)\n",
    "plt.scatter(x[:n_samples,0], x[:n_samples,1] , label = \"$Y = 0$\", color = '#AB47BC')\n",
    "plt.scatter(x[n_samples:,0], x[n_samples:,1] , label = \"$Y = 1$\", color = '#03DAc6')\n",
    "cbar = plt.colorbar(cs)"
   ]
  },
  {
   "cell_type": "markdown",
   "metadata": {},
   "source": [
    "Podemos comparar los resultados de los tres métodos de optimización. Para esto, consideramos las funciones de error\n",
    "\n",
    "\\begin{align}\n",
    "\\text{err}_1 &= \\sum_{i=0}^m y_i \\neq \\lfloor\\phi(\\mathbf{w}^T\\mathbf{x})\\rceil \\\\\n",
    "\\text{err}_2 &= \\sum_{i = 0}^m  y_i\\phi(\\mathbf{w}^T\\mathbf{x}_i) + (1 - y_i)(1 - \\phi(\\mathbf{w}^T\\mathbf{x}_i)) \\\\\n",
    "\\text{err}_3 &= \\frac{1}{2} \\sum_{i=1}^{m} (y_i - \\phi(\\mathbf{w}^T\\mathbf{x}_i))^2\n",
    "\\end{align}\n",
    "\n",
    "En la primera función penalizamos cada error con el mismo peso, mientras que en la segunda penalizamos más los errores más grandes, es decir, cuando clasificamos X como Y=1 con probabilidad alta"
   ]
  },
  {
   "cell_type": "code",
   "execution_count": 15,
   "metadata": {},
   "outputs": [],
   "source": [
    "def err1(y, py):\n",
    "    return sum(abs(y - np.round(np.array(py))))\n",
    "def err2(y, py):\n",
    "    err = 0\n",
    "    for i in range(len(y)):\n",
    "        err += y[i] * (1 - py[i]) + (1 - y[i]) * py[i]\n",
    "    return err\n",
    "\n",
    "def err3(y, py):\n",
    "    err = 0\n",
    "    for i in range(len(y)):\n",
    "        err += (y[i] - py[i])**2\n",
    "    return err"
   ]
  },
  {
   "cell_type": "code",
   "execution_count": 16,
   "metadata": {},
   "outputs": [],
   "source": [
    "w = rl_ls(y, x), rl_v1(y, x), rl_v2(y, x)"
   ]
  },
  {
   "cell_type": "code",
   "execution_count": 17,
   "metadata": {},
   "outputs": [
    {
     "data": {
      "image/png": "[encoded data removed]",
      "text/plain": [
       "<Figure size 1584x432 with 4 Axes>"
      ]
     },
     "metadata": {},
     "output_type": "display_data"
    }
   ],
   "source": [
    "names = ['Minimos Cuadrados', \"Verosimilitud 1\", \"Verosimilitud 2\"]\n",
    "f, ax = plt.subplots(1, len(w), figsize=(22, 6))\n",
    "for i in range(len(w)):\n",
    "    X, Y, Z = eval_in_space(w[i])\n",
    "    cs = ax[i].contourf(X, Y, Z, locator=ticker.LinearLocator(), cmap=cm.PuBu_r)\n",
    "    ax[i].scatter(x[:n_samples,0], x[:n_samples,1] , label = \"$Y = 0$\", color = '#AB47BC')\n",
    "    ax[i].scatter(x[n_samples:,0], x[n_samples:,1] , label = \"$Y = 1$\", color = '#03DAc6')\n",
    "    ax[i].set_title(names[i])\n",
    "plt.colorbar(cs)\n",
    "plt.show()"
   ]
  },
  {
   "cell_type": "code",
   "execution_count": 18,
   "metadata": {},
   "outputs": [
    {
     "name": "stdout",
     "output_type": "stream",
     "text": [
      "Minimos Cuadrados \n",
      "Error 1:  6.0 Error 2: 12.868016318876874 Error 3: 4.773598073911724\n",
      "Verosimilitud 1 \n",
      "Error 1:  4.0 Error 2: 5.299443998586122 Error 3: 2.7971273937030325\n",
      "Verosimilitud 2 \n",
      "Error 1:  6.0 Error 2: 6.051006187283617 Error 3: 4.605548377023719\n"
     ]
    }
   ],
   "source": [
    "py = [[logistic_function(xi, wi) for xi in x] for wi in w]\n",
    "err1_v = [err1(y, pyi) for pyi in py]\n",
    "err2_v = [err2(y, pyi) for pyi in py]\n",
    "err3_v = [err3(y, pyi) for pyi in py]\n",
    "\n",
    "for i in range(len(err1_v)):\n",
    "    print(names[i], \"\\nError 1: \", err1_v[i], \"Error 2:\", err2_v[i], \"Error 3:\", err3_v[i])"
   ]
  },
  {
   "cell_type": "markdown",
   "metadata": {},
   "source": [
    "Como podemos ver, el desempeño es muy similar, pero el primer método de verosimilitud resulta superior."
   ]
  },
  {
   "cell_type": "markdown",
   "metadata": {},
   "source": [
    "Ya entendiendo el funcionamiento y viendo las gráficas en dos dimensiones, podemos "
   ]
  },
  {
   "cell_type": "code",
   "execution_count": 68,
   "metadata": {},
   "outputs": [],
   "source": [
    "x_i = iris.data\n",
    "y_i = iris.target\n",
    "x_i = np.append(x_i[y_i == 0],x_i[y_i == 2], axis=0)\n",
    "y_i = np.append(y_i[y_i == 0],y_i[y_i == 2])\n",
    "y_i[ y_i == 2] = 1"
   ]
  },
  {
   "cell_type": "code",
   "execution_count": 69,
   "metadata": {},
   "outputs": [],
   "source": [
    "w_i = rl_ls(y_i, x_i, 20000), rl_v1(y_i, x_i), rl_v2(y_i, x_i)"
   ]
  },
  {
   "cell_type": "code",
   "execution_count": 70,
   "metadata": {},
   "outputs": [
    {
     "name": "stdout",
     "output_type": "stream",
     "text": [
      "Minimos Cuadrados \n",
      "Error 1:  50.0 Error 2: 50.0 Error 3: 50.0\n",
      "Verosimilitud 1 \n",
      "Error 1:  50.0 Error 2: 49.997322384815554 Error 3: 49.99463556822373\n",
      "Verosimilitud 2 \n",
      "Error 1:  0.0 Error 2: 1.160382532538892e-178 Error 3: 0.0\n"
     ]
    }
   ],
   "source": [
    "py = [[logistic_function(xi, wi) for xi in x_i] for wi in w_i]\n",
    "err1_v = [err1(y_i, pyi) for pyi in py]\n",
    "err2_v = [err2(y_i, pyi) for pyi in py]\n",
    "err3_v = [err3(y_i, pyi) for pyi in py]\n",
    "for i in range(len(err1_v)):\n",
    "    print(names[i], \"\\nError 1: \", err1_v[i], \"Error 2:\", err2_v[i], \"Error 3:\", err3_v[i])"
   ]
  },
  {
   "cell_type": "code",
   "execution_count": 72,
   "metadata": {},
   "outputs": [
    {
     "data": {
      "image/png": "[encoded data removed]",
      "text/latex": [
       "$$\\left [ 0.0, \\quad 0.0, \\quad 0.0, \\quad 0.0, \\quad 0.0, \\quad 0.0, \\quad 0.0, \\quad 0.0, \\quad 0.0, \\quad 0.0, \\quad 0.0, \\quad 0.0, \\quad 0.0, \\quad 0.0, \\quad 0.0, \\quad 0.0, \\quad 0.0, \\quad 0.0, \\quad 0.0, \\quad 0.0, \\quad 0.0, \\quad 0.0, \\quad 0.0, \\quad 1.292404437770074e-223, \\quad 1.3814949044246674e-188, \\quad 0.0, \\quad 0.0, \\quad 0.0, \\quad 0.0, \\quad 0.0, \\quad 0.0, \\quad 0.0, \\quad 0.0, \\quad 0.0, \\quad 0.0, \\quad 0.0, \\quad 0.0, \\quad 0.0, \\quad 0.0, \\quad 0.0, \\quad 0.0, \\quad 1.1603825324007425e-178, \\quad 0.0, \\quad 0.0, \\quad 0.0, \\quad 0.0, \\quad 0.0, \\quad 0.0, \\quad 0.0, \\quad 0.0, \\quad 1.0, \\quad 1.0, \\quad 1.0, \\quad 1.0, \\quad 1.0, \\quad 1.0, \\quad 1.0, \\quad 1.0, \\quad 1.0, \\quad 1.0, \\quad 1.0, \\quad 1.0, \\quad 1.0, \\quad 1.0, \\quad 1.0, \\quad 1.0, \\quad 1.0, \\quad 1.0, \\quad 1.0, \\quad 1.0, \\quad 1.0, \\quad 1.0, \\quad 1.0, \\quad 1.0, \\quad 1.0, \\quad 1.0, \\quad 1.0, \\quad 1.0, \\quad 1.0, \\quad 1.0, \\quad 1.0, \\quad 1.0, \\quad 1.0, \\quad 1.0, \\quad 1.0, \\quad 1.0, \\quad 1.0, \\quad 1.0, \\quad 1.0, \\quad 1.0, \\quad 1.0, \\quad 1.0, \\quad 1.0, \\quad 1.0, \\quad 1.0, \\quad 1.0, \\quad 1.0, \\quad 1.0, \\quad 1.0, \\quad 1.0\\right ]$$"
      ],
      "text/plain": [
       "[0.0, 0.0, 0.0, 0.0, 0.0, 0.0, 0.0, 0.0, 0.0, 0.0, 0.0, 0.0, 0.0, 0.0, 0.0, 0.\n",
       "0, 0.0, 0.0, 0.0, 0.0, 0.0, 0.0, 0.0, 1.292404437770074e-223, 1.38149490442466\n",
       "74e-188, 0.0, 0.0, 0.0, 0.0, 0.0, 0.0, 0.0, 0.0, 0.0, 0.0, 0.0, 0.0, 0.0, 0.0,\n",
       " 0.0, 0.0, 1.1603825324007425e-178, 0.0, 0.0, 0.0, 0.0, 0.0, 0.0, 0.0, 0.0, 1.\n",
       "0, 1.0, 1.0, 1.0, 1.0, 1.0, 1.0, 1.0, 1.0, 1.0, 1.0, 1.0, 1.0, 1.0, 1.0, 1.0, \n",
       "1.0, 1.0, 1.0, 1.0, 1.0, 1.0, 1.0, 1.0, 1.0, 1.0, 1.0, 1.0, 1.0, 1.0, 1.0, 1.0\n",
       ", 1.0, 1.0, 1.0, 1.0, 1.0, 1.0, 1.0, 1.0, 1.0, 1.0, 1.0, 1.0, 1.0, 1.0, 1.0, 1\n",
       ".0, 1.0, 1.0]"
      ]
     },
     "execution_count": 72,
     "metadata": {},
     "output_type": "execute_result"
    }
   ],
   "source": [
    "py[2]"
   ]
  },
  {
   "cell_type": "code",
   "execution_count": 53,
   "metadata": {},
   "outputs": [
    {
     "data": {
      "text/plain": [
       "(array([-189.19406875, -955.2115048 , -660.64525927, -283.47186144,\n",
       "         -42.83831855]),\n",
       " array([-1.19257075e-42,  1.00000000e+00,  1.00000000e+00,  1.00000000e+00,\n",
       "         1.00000000e+00]),\n",
       " array([ -265.53551796,  -211.4863745 , -1211.14598501,  2487.64959873,\n",
       "         1197.34697851]))"
      ]
     },
     "execution_count": 53,
     "metadata": {},
     "output_type": "execute_result"
    }
   ],
   "source": [
    "w_i"
   ]
  },
  {
   "cell_type": "code",
   "execution_count": 61,
   "metadata": {},
   "outputs": [
    {
     "data": {
      "text/plain": [
       "array([[5.1, 3.5],\n",
       "       [4.9, 3. ],\n",
       "       [4.7, 3.2],\n",
       "       [4.6, 3.1],\n",
       "       [5. , 3.6],\n",
       "       [5.4, 3.9],\n",
       "       [4.6, 3.4],\n",
       "       [5. , 3.4],\n",
       "       [4.4, 2.9],\n",
       "       [4.9, 3.1],\n",
       "       [5.4, 3.7],\n",
       "       [4.8, 3.4],\n",
       "       [4.8, 3. ],\n",
       "       [4.3, 3. ],\n",
       "       [5.8, 4. ],\n",
       "       [5.7, 4.4],\n",
       "       [5.4, 3.9],\n",
       "       [5.1, 3.5],\n",
       "       [5.7, 3.8],\n",
       "       [5.1, 3.8],\n",
       "       [5.4, 3.4],\n",
       "       [5.1, 3.7],\n",
       "       [4.6, 3.6],\n",
       "       [5.1, 3.3],\n",
       "       [4.8, 3.4],\n",
       "       [5. , 3. ],\n",
       "       [5. , 3.4],\n",
       "       [5.2, 3.5],\n",
       "       [5.2, 3.4],\n",
       "       [4.7, 3.2],\n",
       "       [4.8, 3.1],\n",
       "       [5.4, 3.4],\n",
       "       [5.2, 4.1],\n",
       "       [5.5, 4.2],\n",
       "       [4.9, 3.1],\n",
       "       [5. , 3.2],\n",
       "       [5.5, 3.5],\n",
       "       [4.9, 3.1],\n",
       "       [4.4, 3. ],\n",
       "       [5.1, 3.4],\n",
       "       [5. , 3.5],\n",
       "       [4.5, 2.3],\n",
       "       [4.4, 3.2],\n",
       "       [5. , 3.5],\n",
       "       [5.1, 3.8],\n",
       "       [4.8, 3. ],\n",
       "       [5.1, 3.8],\n",
       "       [4.6, 3.2],\n",
       "       [5.3, 3.7],\n",
       "       [5. , 3.3],\n",
       "       [6.3, 3.3],\n",
       "       [5.8, 2.7],\n",
       "       [7.1, 3. ],\n",
       "       [6.3, 2.9],\n",
       "       [6.5, 3. ],\n",
       "       [7.6, 3. ],\n",
       "       [4.9, 2.5],\n",
       "       [7.3, 2.9],\n",
       "       [6.7, 2.5],\n",
       "       [7.2, 3.6],\n",
       "       [6.5, 3.2],\n",
       "       [6.4, 2.7],\n",
       "       [6.8, 3. ],\n",
       "       [5.7, 2.5],\n",
       "       [5.8, 2.8],\n",
       "       [6.4, 3.2],\n",
       "       [6.5, 3. ],\n",
       "       [7.7, 3.8],\n",
       "       [7.7, 2.6],\n",
       "       [6. , 2.2],\n",
       "       [6.9, 3.2],\n",
       "       [5.6, 2.8],\n",
       "       [7.7, 2.8],\n",
       "       [6.3, 2.7],\n",
       "       [6.7, 3.3],\n",
       "       [7.2, 3.2],\n",
       "       [6.2, 2.8],\n",
       "       [6.1, 3. ],\n",
       "       [6.4, 2.8],\n",
       "       [7.2, 3. ],\n",
       "       [7.4, 2.8],\n",
       "       [7.9, 3.8],\n",
       "       [6.4, 2.8],\n",
       "       [6.3, 2.8],\n",
       "       [6.1, 2.6],\n",
       "       [7.7, 3. ],\n",
       "       [6.3, 3.4],\n",
       "       [6.4, 3.1],\n",
       "       [6. , 3. ],\n",
       "       [6.9, 3.1],\n",
       "       [6.7, 3.1],\n",
       "       [6.9, 3.1],\n",
       "       [5.8, 2.7],\n",
       "       [6.8, 3.2],\n",
       "       [6.7, 3.3],\n",
       "       [6.7, 3. ],\n",
       "       [6.3, 2.5],\n",
       "       [6.5, 3. ],\n",
       "       [6.2, 3.4],\n",
       "       [5.9, 3. ]])"
      ]
     },
     "execution_count": 61,
     "metadata": {},
     "output_type": "execute_result"
    }
   ],
   "source": [
    "x_i[:,:2]"
   ]
  },
  {
   "cell_type": "code",
   "execution_count": null,
   "metadata": {},
   "outputs": [],
   "source": []
  },
  {
   "cell_type": "code",
   "execution_count": null,
   "metadata": {},
   "outputs": [],
   "source": []
  }
 ],
 "metadata": {
  "kernelspec": {
   "display_name": "Python 3",
   "language": "python",
   "name": "python3"
  },
  "language_info": {
   "codemirror_mode": {
    "name": "ipython",
    "version": 3
   },
   "file_extension": ".py",
   "mimetype": "text/x-python",
   "name": "python",
   "nbconvert_exporter": "python",
   "pygments_lexer": "ipython3",
   "version": "3.6.6"
  }
 },
 "nbformat": 4,
 "nbformat_minor": 2
}
