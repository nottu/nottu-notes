{
 "cells": [
  {
   "cell_type": "markdown",
   "metadata": {},
   "source": [
    "# Tarea 2\n",
    "## Francisco Javier Peralta Ramírez"
   ]
  },
  {
   "cell_type": "code",
   "execution_count": 183,
   "metadata": {},
   "outputs": [],
   "source": [
    "import matplotlib.pyplot as plt\n",
    "from matplotlib import ticker, cm\n",
    "from matplotlib.colors import LogNorm\n",
    "\n",
    "\n",
    "import numpy as np\n",
    "import sympy as sp\n",
    "from functools import reduce\n",
    "\n",
    "import warnings\n",
    "sp.init_printing()\n",
    "warnings.filterwarnings('ignore')"
   ]
  },
  {
   "cell_type": "markdown",
   "metadata": {},
   "source": [
    "El algoritmo de regresión logistica es un clasificador binario para clases linealmente separables. La idea del algoritmo es poner una sigmoide sobre los datos de tal modo que el valor de cada dato, al evaluarse sobre la sigmoide representa la probabilidad de que pertenezca a la clase 1 es decir $P( Y = 1 | X = x ) $. La funcion sigmoide es:\n",
    "\n",
    "$$ \\phi(x) = \\frac{1}{1 + e^{-z}}$$\n",
    "\n",
    "Esta función tiene la siguiente forma en $\\mathbb{R}^1$"
   ]
  },
  {
   "cell_type": "code",
   "execution_count": 48,
   "metadata": {},
   "outputs": [
    {
     "data": {
      "image/png": "[encoded data removed]",
      "text/plain": [
       "<Figure size 432x288 with 1 Axes>"
      ]
     },
     "metadata": {
      "needs_background": "light"
     },
     "output_type": "display_data"
    }
   ],
   "source": [
    "def sigmoid(x, lib=np):\n",
    "    return 1/(1 + lib.exp(-x))\n",
    "v = np.arange( -10, 10, 0.1)\n",
    "plt.plot( v, sigmoid( v) , label=\"$\\phi(x)$\")\n",
    "plt.axhline(0.0, ls='dotted', color='k')\n",
    "plt.axhline(1.0, ls='dotted', color='k')\n",
    "plt.axhline(0.5, color='k', label=\"P(Y = 1 | X = x)  = 0.5\")\n",
    "plt.yticks([0, 0.5, 1])\n",
    "plt.legend()\n",
    "plt.show()"
   ]
  },
  {
   "cell_type": "markdown",
   "metadata": {},
   "source": [
    "Consideremos el caso simple de separar datos de dos Gaussianas, centramos los datos para acelerar la convergencia de nuestros algoritmos."
   ]
  },
  {
   "cell_type": "code",
   "execution_count": 214,
   "metadata": {},
   "outputs": [
    {
     "data": {
      "image/png": "[encoded data removed]",
      "text/plain": [
       "<Figure size 432x288 with 1 Axes>"
      ]
     },
     "metadata": {
      "needs_background": "light"
     },
     "output_type": "display_data"
    },
    {
     "name": "stdout",
     "output_type": "stream",
     "text": [
      "[-7.40148683e-18  4.47789953e-16]\n"
     ]
    }
   ],
   "source": [
    "n_samples = 30\n",
    "x1 = np.random.multivariate_normal(np.array([0,0]), np.array([[1,0], [0, 1]]), n_samples)\n",
    "x2 = np.random.multivariate_normal(np.array([3,3]), np.array([[1,0], [0, 1]]), n_samples)\n",
    "\n",
    "x = np.append(x1, x2, axis = 0)\n",
    "x = x - x.mean(axis=0) #centramos los datos para acelerar la convergencia\n",
    "y = np.append([0] * len(x1) , [1] * len(x2)) # creamos nuestro vector de Y\n",
    "\n",
    "plt.scatter(x[:n_samples,0], x[:n_samples,1] , label = \"$Y = 0$\")\n",
    "plt.scatter(x[n_samples:,0], x[n_samples:,1] , label = \"$Y = 1$\")\n",
    "plt.legend()\n",
    "plt.show()\n",
    "\n",
    "print(x.mean(axis=0))"
   ]
  },
  {
   "cell_type": "markdown",
   "metadata": {},
   "source": [
    "Podemos hacer el ajuste de esta sigmoide minimizando el error de clasificación\n",
    "\n",
    "$$ \\min_{w}F(w) = \\frac{1}{2} \\sum_{i=1}^{m} (y_i - \\phi(\\mathbf{w}^T\\mathbf{x}_i)^2 $$\n",
    "\n",
    "donde $\\mathbf{w}$ es un vector de pesos y $\\mathbf{x}_i$ es nuestra variable en $\\mathbb{R}^n$. Esto lo podemos resolver con el métdo de Levenberg-Marquardt ya que este sólo nos pide el Jacbobiano (primera derivada). En cada iteración del algoritmo LM se resuelve\n",
    "\n",
    "$$ \\min_{p} \\frac{1}{2} ||J_kp+r_k||^2 \\,\\,\\,\\,\\, ||p|| \\leq \\delta_k$$\n",
    "\n",
    "donde $r_i = y_i - \\phi(\\mathbf{w}^T\\mathbf{x}_i)$"
   ]
  },
  {
   "cell_type": "code",
   "execution_count": 215,
   "metadata": {},
   "outputs": [],
   "source": [
    "n = len(x)\n",
    "def logistic_function(x, w, lib=np):\n",
    "    v = w[0]\n",
    "    for i in range(len(x)):\n",
    "        v += w[i+1] * x[i]\n",
    "    return sigmoid(v, lib)\n",
    "def R_sigmoid(y, x, w, lib=np):\n",
    "    return logistic_function(x, w, lib=lib) - y\n",
    "\n",
    "def jacobiano_sigmoid(f, y, x, w):\n",
    "    w_s = sp.symbols(\"w0:{}\".format(len(w)))\n",
    "    x_s = sp.symbols(\"x0:{}\".format(len(w) - 1))\n",
    "    y_s = sp.Symbol(\"y\")\n",
    "    mtx = sp.Matrix([f( y_s , x_s, w_s , lib=sp)]) #el reduce nos da la suma de todas las w[i]\n",
    "    jac = mtx.jacobian(w_s)\n",
    "    jac_f  = [sp.lambdify((x_s + w_s), jac[i]) for i in range(len(w))]\n",
    "    def __do_grad(w):\n",
    "        jac_eval = [ [jac_fn(*xi, *w) for jac_fn in jac_f] for xi in x]\n",
    "        return np.array(jac_eval)\n",
    "    return __do_grad\n",
    "\n",
    "jf = jacobiano_sigmoid(R_sigmoid, y, x, w)\n",
    "def max_diag(A): #valor maximo en diagonal de matriz cuadrada\n",
    "    l = A[0,0]\n",
    "    for i in range(1, len(A)):\n",
    "        l = A[i,i] if(A[i,i] > l) else l\n",
    "    return l"
   ]
  },
  {
   "cell_type": "code",
   "execution_count": 216,
   "metadata": {},
   "outputs": [],
   "source": [
    "w = np.array([0, 1, 1])\n",
    "v = 1.2\n",
    "toler = 1E-10\n",
    "def R(y, x, w, lib=np):\n",
    "    return np.array([ R_sigmoid(y[i], x[i], w, lib=lib) for i in range(len(x))])\n",
    "jf = jacobiano_sigmoid(R_sigmoid, y, x, w)\n",
    "\n",
    "def LM(R, J, x, y, w):\n",
    "    k = 0\n",
    "    r = R(y, x, w)\n",
    "    j = J(w)\n",
    "    JJ = j.T@j\n",
    "    l = max_diag(JJ)\n",
    "    norm_sq_r = r.T @ r\n",
    "    b = j.T @r\n",
    "    while np.linalg.norm( b ) > toler and k < 1000:\n",
    "        A = JJ + np.identity(JJ.shape[0]) * l\n",
    "        p = np.linalg.solve(A, -b)\n",
    "        nw = w + p\n",
    "        nr = R(y, x, w)\n",
    "        norm_sq_nr = nr.T @ nr\n",
    "        if( norm_sq_nr <= norm_sq_r):\n",
    "            norm_sq_r = norm_sq_nr\n",
    "            r = nr\n",
    "            w = nw\n",
    "            l /= v\n",
    "            j = J(w)\n",
    "            JJ = j.T@j\n",
    "            b = j.T @r\n",
    "        else:\n",
    "            l *= v\n",
    "        k += 1\n",
    "    return w\n",
    "w = LM(R, jf, x, y, np.array([0, 1, 1]))"
   ]
  },
  {
   "cell_type": "code",
   "execution_count": 235,
   "metadata": {},
   "outputs": [
    {
     "data": {
      "image/png": "[encoded data removed]",
      "text/plain": [
       "<Figure size 432x288 with 2 Axes>"
      ]
     },
     "metadata": {
      "needs_background": "light"
     },
     "output_type": "display_data"
    }
   ],
   "source": [
    "N = 100\n",
    "# w = np.array([0 ,  1, 1])\n",
    "x_v = np.linspace(x.min()-1, x.max()+1, N)\n",
    "y_v = np.linspace(x.min()-1, x.max()+1, N)\n",
    "X_v, Y_v = np.meshgrid(x_v, y_v)\n",
    "XX = np.array([X_v.ravel(), Y_v.ravel()]).T\n",
    "Z = np.array([logistic_function(xi, w) for xi in XX])\n",
    "Z = Z.reshape(X_v.shape)\n",
    "cs = plt.contourf(X_v, Y_v, Z, locator=ticker.LinearLocator(), cmap=cm.PuBu_r)\n",
    "plt.scatter(x[:n_samples,0], x[:n_samples,1] , label = \"$Y = 0$\", color = '#AB47BC')\n",
    "plt.scatter(x[n_samples:,0], x[n_samples:,1] , label = \"$Y = 1$\", color = '#03DAc6')\n",
    "cbar = plt.colorbar(cs)"
   ]
  },
  {
   "cell_type": "code",
   "execution_count": null,
   "metadata": {},
   "outputs": [],
   "source": []
  }
 ],
 "metadata": {
  "kernelspec": {
   "display_name": "Python 3",
   "language": "python",
   "name": "python3"
  },
  "language_info": {
   "codemirror_mode": {
    "name": "ipython",
    "version": 3
   },
   "file_extension": ".py",
   "mimetype": "text/x-python",
   "name": "python",
   "nbconvert_exporter": "python",
   "pygments_lexer": "ipython3",
   "version": "3.6.6"
  }
 },
 "nbformat": 4,
 "nbformat_minor": 2
}
