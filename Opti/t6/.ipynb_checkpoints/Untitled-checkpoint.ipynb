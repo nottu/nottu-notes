{
 "cells": [
  {
   "cell_type": "code",
   "execution_count": 9,
   "metadata": {},
   "outputs": [
    {
     "name": "stdout",
     "output_type": "stream",
     "text": [
      "(500, 500, 3)\n"
     ]
    }
   ],
   "source": [
    "import imageio\n",
    "import numpy as np\n",
    "im=imageio.imread('histograms/rose.png')\n",
    "print(im.shape)"
   ]
  },
  {
   "cell_type": "code",
   "execution_count": 10,
   "metadata": {},
   "outputs": [
    {
     "name": "stdout",
     "output_type": "stream",
     "text": [
      "[[0. 0. 0.]\n",
      " [0. 0. 1.]\n",
      " [0. 0. 2.]\n",
      " [0. 1. 0.]\n",
      " [0. 1. 1.]\n",
      " [0. 1. 2.]\n",
      " [0. 2. 0.]\n",
      " [0. 2. 1.]\n",
      " [0. 2. 2.]\n",
      " [1. 0. 0.]\n",
      " [1. 0. 1.]\n",
      " [1. 0. 2.]\n",
      " [1. 1. 0.]\n",
      " [1. 1. 1.]\n",
      " [1. 1. 2.]\n",
      " [1. 2. 0.]\n",
      " [1. 2. 1.]\n",
      " [1. 2. 2.]\n",
      " [2. 0. 0.]\n",
      " [2. 0. 1.]\n",
      " [2. 0. 2.]\n",
      " [2. 1. 0.]\n",
      " [2. 1. 1.]\n",
      " [2. 1. 2.]\n",
      " [2. 2. 0.]\n",
      " [2. 2. 1.]\n",
      " [2. 2. 2.]]\n"
     ]
    }
   ],
   "source": [
    "tam=3;\n",
    "c=np.zeros((tam*tam*tam, 3))\n",
    "\n",
    "k=0\n",
    "j=0\n",
    "for i in range(0, tam*tam*tam):\n",
    "    if i != 0 and i%(tam*tam)==0:\n",
    "        k=k+1\n",
    "        k=k%tam\n",
    "    c[i][0]=k\n",
    "    if i!=0 and i%tam==0:\n",
    "        j=j+1\n",
    "        j=j%tam\n",
    "    c[i][1]=j\n",
    "    c[i][2]=i%tam\n",
    "print(c)"
   ]
  },
  {
   "cell_type": "code",
   "execution_count": 11,
   "metadata": {},
   "outputs": [],
   "source": [
    "for i in range(0,im.shape[0]):\n",
    "    for j in range(0,im.shape[1]):\n",
    "        pix=im[i,j]\n",
    "        for canal in range(0,3):\n",
    "            if pix[canal]<255/3:\n",
    "                im[i,j,canal]=0\n",
    "            elif pix[canal]<255*2/3 and pix[canal]>255/3: \n",
    "                im[i,j,canal]=1\n",
    "            else:\n",
    "                im[i,j,canal]=2\n"
   ]
  },
  {
   "cell_type": "code",
   "execution_count": 37,
   "metadata": {
    "scrolled": true
   },
   "outputs": [
    {
     "name": "stdout",
     "output_type": "stream",
     "text": [
      "3 3 3\n",
      "2\n",
      "2\n",
      "1\n",
      "2\n",
      "2\n",
      "1\n",
      "1\n",
      "1\n",
      "1\n",
      "2\n",
      "2\n",
      "1\n",
      "2\n",
      "2\n",
      "1\n",
      "2\n",
      "2\n",
      "1\n",
      "2\n",
      "2\n",
      "2\n",
      "2\n",
      "1\n",
      "1\n",
      "1\n",
      "2\n",
      "1\n",
      "\n"
     ]
    }
   ],
   "source": [
    "f = open ('segmentacion.txt','r')\n",
    "mensaje = f.read()\n",
    "print(mensaje)\n",
    "f.close()"
   ]
  },
  {
   "cell_type": "code",
   "execution_count": 14,
   "metadata": {},
   "outputs": [],
   "source": [
    "s=[1, 1, 1, 1, 1, 1, 2, 2, 2, 1, 1, 1, 1, 1, 1, 2, 2, 2, 1, 1, 1, 1, 1, 1, 1, 1, 1]"
   ]
  },
  {
   "cell_type": "code",
   "execution_count": 12,
   "metadata": {},
   "outputs": [],
   "source": [
    "nuevo=np.zeros((500,500))\n",
    "\n",
    "for i in range(0,im.shape[0]):\n",
    "    for j in range(0,im.shape[1]):\n",
    "        for om in range(0,tam*tam*tam):\n",
    "            if (c[om]==im[i,j]).all():\n",
    "                nuevo[i,j]=s[om]"
   ]
  },
  {
   "cell_type": "code",
   "execution_count": 15,
   "metadata": {},
   "outputs": [],
   "source": [
    "import matplotlib.pyplot as plt \n",
    "import matplotlib.cm as cm\n",
    "import numpy as np\n",
    "plt.imsave('test2.png', nuevo, cmap=cm.RdBu)\n"
   ]
  },
  {
   "cell_type": "code",
   "execution_count": null,
   "metadata": {},
   "outputs": [],
   "source": []
  }
 ],
 "metadata": {
  "kernelspec": {
   "display_name": "Python 2",
   "language": "python",
   "name": "python2"
  },
  "language_info": {
   "codemirror_mode": {
    "name": "ipython",
    "version": 2
   },
   "file_extension": ".py",
   "mimetype": "text/x-python",
   "name": "python",
   "nbconvert_exporter": "python",
   "pygments_lexer": "ipython2",
   "version": "2.7.14"
  }
 },
 "nbformat": 4,
 "nbformat_minor": 2
}
